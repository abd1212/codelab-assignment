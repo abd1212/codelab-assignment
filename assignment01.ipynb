{
 "metadata": {
  "language_info": {
   "codemirror_mode": {
    "name": "ipython",
    "version": 3
   },
   "file_extension": ".py",
   "mimetype": "text/x-python",
   "name": "python",
   "nbconvert_exporter": "python",
   "pygments_lexer": "ipython3",
   "version": "3.6.5-final"
  },
  "orig_nbformat": 2,
  "kernelspec": {
   "name": "python3",
   "display_name": "Python 3",
   "language": "python"
  }
 },
 "nbformat": 4,
 "nbformat_minor": 2,
 "cells": [
  {
   "cell_type": "code",
   "execution_count": 7,
   "metadata": {},
   "outputs": [
    {
     "output_type": "stream",
     "name": "stdout",
     "text": [
      "   gender    salary   bonus                  team\n0    Male   97308.0   6.945             Marketing\n1    Male   61933.0   4.170                Others\n2  Female  130590.0  11.858               Finance\n3    Male  138705.0   9.340               Finance\n4    Male  101004.0   1.389       Client Services\n5    Male  115163.0  10.125                 Legal\n6  Female   65476.0  10.012               Product\n7  Female   45906.0  11.598               Finance\n8  Female   95570.0  18.523           Engineering\n9  Female  139852.0   7.524  Business Development\n"
     ]
    }
   ],
   "source": [
    "import pandas as pd\n",
    "\n",
    "#read csv file \n",
    "df = pd.read_csv(\"employees.csv\")\n",
    "df.head() #show first 5 recoreds\n",
    "\n",
    "df.columns = ['first_name', 'gender', 'salary', 'bonus', 'team'] #rename columns\n",
    "\n",
    "\n",
    "df = df.drop(['first_name'], axis=1) #delete first name column\n",
    "\n",
    "df.salary.fillna(df.salary.mean(),inplace=True) #fill missing values in salary using the mean value\n",
    "\n",
    "df.bonus.fillna(df.bonus.mean(),inplace=True) #fill missing values in bonus using the mean value\n",
    "\n",
    "print(df[0:10])\n",
    "\n"
   ]
  },
  {
   "cell_type": "code",
   "execution_count": 8,
   "metadata": {},
   "outputs": [
    {
     "output_type": "stream",
     "name": "stdout",
     "text": [
      "{0: 'Male', 1: 'Female'}\n",
      "  gender    salary   bonus                  team\n",
      "0      0   97308.0   6.945             Marketing\n",
      "1      0   61933.0   4.170                Others\n",
      "2      1  130590.0  11.858               Finance\n",
      "3      0  138705.0   9.340               Finance\n",
      "4      0  101004.0   1.389       Client Services\n",
      "5      0  115163.0  10.125                 Legal\n",
      "6      1   65476.0  10.012               Product\n",
      "7      1   45906.0  11.598               Finance\n",
      "8      1   95570.0  18.523           Engineering\n",
      "9      1  139852.0   7.524  Business Development\n"
     ]
    }
   ],
   "source": [
    "#bulding dictionary of gender\n",
    "key_gender_dict = 0\n",
    "gender_dict = {}\n",
    "for value in df.gender.unique():\n",
    "    gender_dict[key_gender_dict] = value\n",
    "    key_gender_dict +=1\n",
    "print(gender_dict)\n",
    "\n",
    "#convert values of gender to numeric using dictionary \n",
    "gender = df['gender']\n",
    "for index in gender.index:\n",
    "    if gender[index] == 'Male':\n",
    "        df.gender[index] = 0\n",
    "    elif gender[index] == \"Female\":\n",
    "        df.gender[index] = 1\n",
    "print(df[0:10])"
   ]
  },
  {
   "cell_type": "code",
   "execution_count": 9,
   "metadata": {},
   "outputs": [
    {
     "output_type": "stream",
     "name": "stdout",
     "text": [
      "{0: 'Marketing', 1: 'Others', 2: 'Finance', 3: 'Client Services', 4: 'Legal', 5: 'Product', 6: 'Engineering', 7: 'Business Development', 8: 'Human Resources', 9: 'Sales', 10: 'Distribution'}\n",
      "  gender    salary   bonus team\n",
      "0      0   97308.0   6.945    0\n",
      "1      0   61933.0   4.170    1\n",
      "2      1  130590.0  11.858    2\n",
      "3      0  138705.0   9.340    2\n",
      "4      0  101004.0   1.389    3\n",
      "5      0  115163.0  10.125    4\n",
      "6      1   65476.0  10.012    5\n",
      "7      1   45906.0  11.598    2\n",
      "8      1   95570.0  18.523    6\n",
      "9      1  139852.0   7.524    7\n"
     ]
    }
   ],
   "source": [
    "#bulding dictionary of team\n",
    "key_team_dict = 0\n",
    "team_dict = {}\n",
    "for value in df.team.unique():\n",
    "    team_dict[key_team_dict] = value\n",
    "    key_team_dict +=1\n",
    "print(team_dict)\n",
    "\n",
    "#convert values of team to numeric using dictionary \n",
    "team = df['team']\n",
    "for index in team.index:\n",
    "    for key in team_dict:\n",
    "        if team[index] == team_dict[key]:\n",
    "            df.team[index] = key\n",
    "            break\n",
    "print(df[0:10])"
   ]
  },
  {
   "cell_type": "code",
   "execution_count": null,
   "metadata": {},
   "outputs": [],
   "source": []
  }
 ]
}