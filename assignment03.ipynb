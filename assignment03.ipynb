{
 "metadata": {
  "language_info": {
   "codemirror_mode": {
    "name": "ipython",
    "version": 3
   },
   "file_extension": ".py",
   "mimetype": "text/x-python",
   "name": "python",
   "nbconvert_exporter": "python",
   "pygments_lexer": "ipython3",
   "version": "3.6.5-final"
  },
  "orig_nbformat": 2,
  "kernelspec": {
   "name": "python3",
   "display_name": "Python 3",
   "language": "python"
  }
 },
 "nbformat": 4,
 "nbformat_minor": 2,
 "cells": [
  {
   "source": [
    "# import necessary libraries and load dataset"
   ],
   "cell_type": "markdown",
   "metadata": {}
  },
  {
   "cell_type": "code",
   "execution_count": 1,
   "metadata": {},
   "outputs": [],
   "source": [
    "from sklearn import svm, metrics, datasets, model_selection\n",
    "from sklearn.ensemble import RandomForestClassifier\n",
    "from sklearn import ensemble\n",
    "import pandas as pd\n",
    "import matplotlib.pyplot as plt\n",
    "import seaborn as sns\n",
    "%matplotlib inline"
   ]
  },
  {
   "source": [
    "x, y = datasets.load_wine(return_X_y=True)"
   ],
   "cell_type": "code",
   "metadata": {},
   "execution_count": 2,
   "outputs": []
  },
  {
   "source": [
    "# define gridsearch and possible parameters "
   ],
   "cell_type": "markdown",
   "metadata": {}
  },
  {
   "cell_type": "code",
   "execution_count": 3,
   "metadata": {},
   "outputs": [],
   "source": [
    "# the possible parameters \n",
    "grid_param = {\n",
    "    'n_estimators': [50,100, 300, 500],\n",
    "    'criterion': ['gini', 'entropy'],\n",
    "    'bootstrap': [True, False]\n",
    "}\n",
    "\n"
   ]
  },
  {
   "cell_type": "code",
   "execution_count": 4,
   "metadata": {},
   "outputs": [],
   "source": [
    "# detrmine the classifier alorithm \n",
    "rfc_model = ensemble.RandomForestClassifier()\n"
   ]
  },
  {
   "cell_type": "code",
   "execution_count": 5,
   "metadata": {},
   "outputs": [],
   "source": [
    "# cross validation model \n",
    "kfold = model_selection.StratifiedShuffleSplit(10, random_state=42)\n"
   ]
  },
  {
   "cell_type": "code",
   "execution_count": 6,
   "metadata": {},
   "outputs": [],
   "source": [
    "# bulid gridsearchCV\n",
    "grid_search = model_selection.GridSearchCV(rfc_model, grid_param, cv=kfold, scoring='accuracy',  verbose=2)\n"
   ]
  },
  {
   "cell_type": "code",
   "execution_count": 7,
   "metadata": {},
   "outputs": [],
   "source": [
    "# the cross_val_score method of the sklearn.model_selection library returns the accuracy for all the folds\n",
    "all_accuracies= model_selection.cross_val_score(rfc_model, X = x, y = y, cv=kfold)"
   ]
  },
  {
   "cell_type": "code",
   "execution_count": 8,
   "metadata": {
    "tags": [
     "outputPrepend"
    ]
   },
   "outputs": [
    {
     "output_type": "stream",
     "name": "stdout",
     "text": [
      "tal=   0.3s\n",
      "[CV] bootstrap=True, criterion=gini, n_estimators=300 ................\n",
      "[CV] . bootstrap=True, criterion=gini, n_estimators=300, total=   0.3s\n",
      "[CV] bootstrap=True, criterion=gini, n_estimators=300 ................\n",
      "[CV] . bootstrap=True, criterion=gini, n_estimators=300, total=   0.3s\n",
      "[CV] bootstrap=True, criterion=gini, n_estimators=300 ................\n",
      "[CV] . bootstrap=True, criterion=gini, n_estimators=300, total=   0.3s\n",
      "[CV] bootstrap=True, criterion=gini, n_estimators=300 ................\n",
      "[CV] . bootstrap=True, criterion=gini, n_estimators=300, total=   0.3s\n",
      "[CV] bootstrap=True, criterion=gini, n_estimators=300 ................\n",
      "[CV] . bootstrap=True, criterion=gini, n_estimators=300, total=   0.3s\n",
      "[CV] bootstrap=True, criterion=gini, n_estimators=300 ................\n",
      "[CV] . bootstrap=True, criterion=gini, n_estimators=300, total=   0.4s\n",
      "[CV] bootstrap=True, criterion=gini, n_estimators=300 ................\n",
      "[CV] . bootstrap=True, criterion=gini, n_estimators=300, total=   0.3s\n",
      "[CV] bootstrap=True, criterion=gini, n_estimators=300 ................\n",
      "[CV] . bootstrap=True, criterion=gini, n_estimators=300, total=   0.3s\n",
      "[CV] bootstrap=True, criterion=gini, n_estimators=300 ................\n",
      "[CV] . bootstrap=True, criterion=gini, n_estimators=300, total=   0.3s\n",
      "[CV] bootstrap=True, criterion=gini, n_estimators=500 ................\n",
      "[CV] . bootstrap=True, criterion=gini, n_estimators=500, total=   0.6s\n",
      "[CV] bootstrap=True, criterion=gini, n_estimators=500 ................\n",
      "[CV] . bootstrap=True, criterion=gini, n_estimators=500, total=   0.5s\n",
      "[CV] bootstrap=True, criterion=gini, n_estimators=500 ................\n",
      "[CV] . bootstrap=True, criterion=gini, n_estimators=500, total=   0.6s\n",
      "[CV] bootstrap=True, criterion=gini, n_estimators=500 ................\n",
      "[CV] . bootstrap=True, criterion=gini, n_estimators=500, total=   0.5s\n",
      "[CV] bootstrap=True, criterion=gini, n_estimators=500 ................\n",
      "[CV] . bootstrap=True, criterion=gini, n_estimators=500, total=   0.6s\n",
      "[CV] bootstrap=True, criterion=gini, n_estimators=500 ................\n",
      "[CV] . bootstrap=True, criterion=gini, n_estimators=500, total=   0.5s\n",
      "[CV] bootstrap=True, criterion=gini, n_estimators=500 ................\n",
      "[CV] . bootstrap=True, criterion=gini, n_estimators=500, total=   0.5s\n",
      "[CV] bootstrap=True, criterion=gini, n_estimators=500 ................\n",
      "[CV] . bootstrap=True, criterion=gini, n_estimators=500, total=   0.5s\n",
      "[CV] bootstrap=True, criterion=gini, n_estimators=500 ................\n",
      "[CV] . bootstrap=True, criterion=gini, n_estimators=500, total=   0.5s\n",
      "[CV] bootstrap=True, criterion=gini, n_estimators=500 ................\n",
      "[CV] . bootstrap=True, criterion=gini, n_estimators=500, total=   0.5s\n",
      "[CV] bootstrap=True, criterion=entropy, n_estimators=50 ..............\n",
      "[CV]  bootstrap=True, criterion=entropy, n_estimators=50, total=   0.1s\n",
      "[CV] bootstrap=True, criterion=entropy, n_estimators=50 ..............\n",
      "[CV]  bootstrap=True, criterion=entropy, n_estimators=50, total=   0.1s\n",
      "[CV] bootstrap=True, criterion=entropy, n_estimators=50 ..............\n",
      "[CV]  bootstrap=True, criterion=entropy, n_estimators=50, total=   0.1s\n",
      "[CV] bootstrap=True, criterion=entropy, n_estimators=50 ..............\n",
      "[CV]  bootstrap=True, criterion=entropy, n_estimators=50, total=   0.1s\n",
      "[CV] bootstrap=True, criterion=entropy, n_estimators=50 ..............\n",
      "[CV]  bootstrap=True, criterion=entropy, n_estimators=50, total=   0.1s\n",
      "[CV] bootstrap=True, criterion=entropy, n_estimators=50 ..............\n",
      "[CV]  bootstrap=True, criterion=entropy, n_estimators=50, total=   0.1s\n",
      "[CV] bootstrap=True, criterion=entropy, n_estimators=50 ..............\n",
      "[CV]  bootstrap=True, criterion=entropy, n_estimators=50, total=   0.1s\n",
      "[CV] bootstrap=True, criterion=entropy, n_estimators=50 ..............\n",
      "[CV]  bootstrap=True, criterion=entropy, n_estimators=50, total=   0.1s\n",
      "[CV] bootstrap=True, criterion=entropy, n_estimators=50 ..............\n",
      "[CV]  bootstrap=True, criterion=entropy, n_estimators=50, total=   0.1s\n",
      "[CV] bootstrap=True, criterion=entropy, n_estimators=50 ..............\n",
      "[CV]  bootstrap=True, criterion=entropy, n_estimators=50, total=   0.1s\n",
      "[CV] bootstrap=True, criterion=entropy, n_estimators=100 .............\n",
      "[CV]  bootstrap=True, criterion=entropy, n_estimators=100, total=   0.1s\n",
      "[CV] bootstrap=True, criterion=entropy, n_estimators=100 .............\n",
      "[CV]  bootstrap=True, criterion=entropy, n_estimators=100, total=   0.1s\n",
      "[CV] bootstrap=True, criterion=entropy, n_estimators=100 .............\n",
      "[CV]  bootstrap=True, criterion=entropy, n_estimators=100, total=   0.1s\n",
      "[CV] bootstrap=True, criterion=entropy, n_estimators=100 .............\n",
      "[CV]  bootstrap=True, criterion=entropy, n_estimators=100, total=   0.1s\n",
      "[CV] bootstrap=True, criterion=entropy, n_estimators=100 .............\n",
      "[CV]  bootstrap=True, criterion=entropy, n_estimators=100, total=   0.1s\n",
      "[CV] bootstrap=True, criterion=entropy, n_estimators=100 .............\n",
      "[CV]  bootstrap=True, criterion=entropy, n_estimators=100, total=   0.1s\n",
      "[CV] bootstrap=True, criterion=entropy, n_estimators=100 .............\n",
      "[CV]  bootstrap=True, criterion=entropy, n_estimators=100, total=   0.1s\n",
      "[CV] bootstrap=True, criterion=entropy, n_estimators=100 .............\n",
      "[CV]  bootstrap=True, criterion=entropy, n_estimators=100, total=   0.1s\n",
      "[CV] bootstrap=True, criterion=entropy, n_estimators=100 .............\n",
      "[CV]  bootstrap=True, criterion=entropy, n_estimators=100, total=   0.1s\n",
      "[CV] bootstrap=True, criterion=entropy, n_estimators=100 .............\n",
      "[CV]  bootstrap=True, criterion=entropy, n_estimators=100, total=   0.1s\n",
      "[CV] bootstrap=True, criterion=entropy, n_estimators=300 .............\n",
      "[CV]  bootstrap=True, criterion=entropy, n_estimators=300, total=   0.3s\n",
      "[CV] bootstrap=True, criterion=entropy, n_estimators=300 .............\n",
      "[CV]  bootstrap=True, criterion=entropy, n_estimators=300, total=   0.3s\n",
      "[CV] bootstrap=True, criterion=entropy, n_estimators=300 .............\n",
      "[CV]  bootstrap=True, criterion=entropy, n_estimators=300, total=   0.3s\n",
      "[CV] bootstrap=True, criterion=entropy, n_estimators=300 .............\n",
      "[CV]  bootstrap=True, criterion=entropy, n_estimators=300, total=   0.3s\n",
      "[CV] bootstrap=True, criterion=entropy, n_estimators=300 .............\n",
      "[CV]  bootstrap=True, criterion=entropy, n_estimators=300, total=   0.3s\n",
      "[CV] bootstrap=True, criterion=entropy, n_estimators=300 .............\n",
      "[CV]  bootstrap=True, criterion=entropy, n_estimators=300, total=   0.3s\n",
      "[CV] bootstrap=True, criterion=entropy, n_estimators=300 .............\n",
      "[CV]  bootstrap=True, criterion=entropy, n_estimators=300, total=   0.3s\n",
      "[CV] bootstrap=True, criterion=entropy, n_estimators=300 .............\n",
      "[CV]  bootstrap=True, criterion=entropy, n_estimators=300, total=   0.3s\n",
      "[CV] bootstrap=True, criterion=entropy, n_estimators=300 .............\n",
      "[CV]  bootstrap=True, criterion=entropy, n_estimators=300, total=   0.3s\n",
      "[CV] bootstrap=True, criterion=entropy, n_estimators=300 .............\n",
      "[CV]  bootstrap=True, criterion=entropy, n_estimators=300, total=   0.3s\n",
      "[CV] bootstrap=True, criterion=entropy, n_estimators=500 .............\n",
      "[CV]  bootstrap=True, criterion=entropy, n_estimators=500, total=   0.6s\n",
      "[CV] bootstrap=True, criterion=entropy, n_estimators=500 .............\n",
      "[CV]  bootstrap=True, criterion=entropy, n_estimators=500, total=   0.6s\n",
      "[CV] bootstrap=True, criterion=entropy, n_estimators=500 .............\n",
      "[CV]  bootstrap=True, criterion=entropy, n_estimators=500, total=   0.6s\n",
      "[CV] bootstrap=True, criterion=entropy, n_estimators=500 .............\n",
      "[CV]  bootstrap=True, criterion=entropy, n_estimators=500, total=   0.6s\n",
      "[CV] bootstrap=True, criterion=entropy, n_estimators=500 .............\n",
      "[CV]  bootstrap=True, criterion=entropy, n_estimators=500, total=   0.6s\n",
      "[CV] bootstrap=True, criterion=entropy, n_estimators=500 .............\n",
      "[CV]  bootstrap=True, criterion=entropy, n_estimators=500, total=   0.6s\n",
      "[CV] bootstrap=True, criterion=entropy, n_estimators=500 .............\n",
      "[CV]  bootstrap=True, criterion=entropy, n_estimators=500, total=   0.6s\n",
      "[CV] bootstrap=True, criterion=entropy, n_estimators=500 .............\n",
      "[CV]  bootstrap=True, criterion=entropy, n_estimators=500, total=   0.6s\n",
      "[CV] bootstrap=True, criterion=entropy, n_estimators=500 .............\n",
      "[CV]  bootstrap=True, criterion=entropy, n_estimators=500, total=   0.6s\n",
      "[CV] bootstrap=True, criterion=entropy, n_estimators=500 .............\n",
      "[CV]  bootstrap=True, criterion=entropy, n_estimators=500, total=   0.6s\n",
      "[CV] bootstrap=False, criterion=gini, n_estimators=50 ................\n",
      "[CV] . bootstrap=False, criterion=gini, n_estimators=50, total=   0.0s\n",
      "[CV] bootstrap=False, criterion=gini, n_estimators=50 ................\n",
      "[CV] . bootstrap=False, criterion=gini, n_estimators=50, total=   0.0s\n",
      "[CV] bootstrap=False, criterion=gini, n_estimators=50 ................\n",
      "[CV] . bootstrap=False, criterion=gini, n_estimators=50, total=   0.0s\n",
      "[CV] bootstrap=False, criterion=gini, n_estimators=50 ................\n",
      "[CV] . bootstrap=False, criterion=gini, n_estimators=50, total=   0.0s\n",
      "[CV] bootstrap=False, criterion=gini, n_estimators=50 ................\n",
      "[CV] . bootstrap=False, criterion=gini, n_estimators=50, total=   0.0s\n",
      "[CV] bootstrap=False, criterion=gini, n_estimators=50 ................\n",
      "[CV] . bootstrap=False, criterion=gini, n_estimators=50, total=   0.0s\n",
      "[CV] bootstrap=False, criterion=gini, n_estimators=50 ................\n",
      "[CV] . bootstrap=False, criterion=gini, n_estimators=50, total=   0.0s\n",
      "[CV] bootstrap=False, criterion=gini, n_estimators=50 ................\n",
      "[CV] . bootstrap=False, criterion=gini, n_estimators=50, total=   0.0s\n",
      "[CV] bootstrap=False, criterion=gini, n_estimators=50 ................\n",
      "[CV] . bootstrap=False, criterion=gini, n_estimators=50, total=   0.0s\n",
      "[CV] bootstrap=False, criterion=gini, n_estimators=50 ................\n",
      "[CV] . bootstrap=False, criterion=gini, n_estimators=50, total=   0.0s\n",
      "[CV] bootstrap=False, criterion=gini, n_estimators=100 ...............\n",
      "[CV]  bootstrap=False, criterion=gini, n_estimators=100, total=   0.1s\n",
      "[CV] bootstrap=False, criterion=gini, n_estimators=100 ...............\n",
      "[CV]  bootstrap=False, criterion=gini, n_estimators=100, total=   0.1s\n",
      "[CV] bootstrap=False, criterion=gini, n_estimators=100 ...............\n",
      "[CV]  bootstrap=False, criterion=gini, n_estimators=100, total=   0.1s\n",
      "[CV] bootstrap=False, criterion=gini, n_estimators=100 ...............\n",
      "[CV]  bootstrap=False, criterion=gini, n_estimators=100, total=   0.1s\n",
      "[CV] bootstrap=False, criterion=gini, n_estimators=100 ...............\n",
      "[CV]  bootstrap=False, criterion=gini, n_estimators=100, total=   0.1s\n",
      "[CV] bootstrap=False, criterion=gini, n_estimators=100 ...............\n",
      "[CV]  bootstrap=False, criterion=gini, n_estimators=100, total=   0.1s\n",
      "[CV] bootstrap=False, criterion=gini, n_estimators=100 ...............\n",
      "[CV]  bootstrap=False, criterion=gini, n_estimators=100, total=   0.1s\n",
      "[CV] bootstrap=False, criterion=gini, n_estimators=100 ...............\n",
      "[CV]  bootstrap=False, criterion=gini, n_estimators=100, total=   0.1s\n",
      "[CV] bootstrap=False, criterion=gini, n_estimators=100 ...............\n",
      "[CV]  bootstrap=False, criterion=gini, n_estimators=100, total=   0.1s\n",
      "[CV] bootstrap=False, criterion=gini, n_estimators=100 ...............\n",
      "[CV]  bootstrap=False, criterion=gini, n_estimators=100, total=   0.1s\n",
      "[CV] bootstrap=False, criterion=gini, n_estimators=300 ...............\n",
      "[CV]  bootstrap=False, criterion=gini, n_estimators=300, total=   0.3s\n",
      "[CV] bootstrap=False, criterion=gini, n_estimators=300 ...............\n",
      "[CV]  bootstrap=False, criterion=gini, n_estimators=300, total=   0.3s\n",
      "[CV] bootstrap=False, criterion=gini, n_estimators=300 ...............\n",
      "[CV]  bootstrap=False, criterion=gini, n_estimators=300, total=   0.3s\n",
      "[CV] bootstrap=False, criterion=gini, n_estimators=300 ...............\n",
      "[CV]  bootstrap=False, criterion=gini, n_estimators=300, total=   0.3s\n",
      "[CV] bootstrap=False, criterion=gini, n_estimators=300 ...............\n",
      "[CV]  bootstrap=False, criterion=gini, n_estimators=300, total=   0.3s\n",
      "[CV] bootstrap=False, criterion=gini, n_estimators=300 ...............\n",
      "[CV]  bootstrap=False, criterion=gini, n_estimators=300, total=   0.3s\n",
      "[CV] bootstrap=False, criterion=gini, n_estimators=300 ...............\n",
      "[CV]  bootstrap=False, criterion=gini, n_estimators=300, total=   0.3s\n",
      "[CV] bootstrap=False, criterion=gini, n_estimators=300 ...............\n",
      "[CV]  bootstrap=False, criterion=gini, n_estimators=300, total=   0.3s\n",
      "[CV] bootstrap=False, criterion=gini, n_estimators=300 ...............\n",
      "[CV]  bootstrap=False, criterion=gini, n_estimators=300, total=   0.3s\n",
      "[CV] bootstrap=False, criterion=gini, n_estimators=300 ...............\n",
      "[CV]  bootstrap=False, criterion=gini, n_estimators=300, total=   0.3s\n",
      "[CV] bootstrap=False, criterion=gini, n_estimators=500 ...............\n",
      "[CV]  bootstrap=False, criterion=gini, n_estimators=500, total=   0.4s\n",
      "[CV] bootstrap=False, criterion=gini, n_estimators=500 ...............\n",
      "[CV]  bootstrap=False, criterion=gini, n_estimators=500, total=   0.5s\n",
      "[CV] bootstrap=False, criterion=gini, n_estimators=500 ...............\n",
      "[CV]  bootstrap=False, criterion=gini, n_estimators=500, total=   0.4s\n",
      "[CV] bootstrap=False, criterion=gini, n_estimators=500 ...............\n",
      "[CV]  bootstrap=False, criterion=gini, n_estimators=500, total=   0.4s\n",
      "[CV] bootstrap=False, criterion=gini, n_estimators=500 ...............\n",
      "[CV]  bootstrap=False, criterion=gini, n_estimators=500, total=   0.5s\n",
      "[CV] bootstrap=False, criterion=gini, n_estimators=500 ...............\n",
      "[CV]  bootstrap=False, criterion=gini, n_estimators=500, total=   0.4s\n",
      "[CV] bootstrap=False, criterion=gini, n_estimators=500 ...............\n",
      "[CV]  bootstrap=False, criterion=gini, n_estimators=500, total=   0.4s\n",
      "[CV] bootstrap=False, criterion=gini, n_estimators=500 ...............\n",
      "[CV]  bootstrap=False, criterion=gini, n_estimators=500, total=   0.4s\n",
      "[CV] bootstrap=False, criterion=gini, n_estimators=500 ...............\n",
      "[CV]  bootstrap=False, criterion=gini, n_estimators=500, total=   0.4s\n",
      "[CV] bootstrap=False, criterion=gini, n_estimators=500 ...............\n",
      "[CV]  bootstrap=False, criterion=gini, n_estimators=500, total=   0.4s\n",
      "[CV] bootstrap=False, criterion=entropy, n_estimators=50 .............\n",
      "[CV]  bootstrap=False, criterion=entropy, n_estimators=50, total=   0.0s\n",
      "[CV] bootstrap=False, criterion=entropy, n_estimators=50 .............\n",
      "[CV]  bootstrap=False, criterion=entropy, n_estimators=50, total=   0.0s\n",
      "[CV] bootstrap=False, criterion=entropy, n_estimators=50 .............\n",
      "[CV]  bootstrap=False, criterion=entropy, n_estimators=50, total=   0.0s\n",
      "[CV] bootstrap=False, criterion=entropy, n_estimators=50 .............\n",
      "[CV]  bootstrap=False, criterion=entropy, n_estimators=50, total=   0.0s\n",
      "[CV] bootstrap=False, criterion=entropy, n_estimators=50 .............\n",
      "[CV]  bootstrap=False, criterion=entropy, n_estimators=50, total=   0.1s\n",
      "[CV] bootstrap=False, criterion=entropy, n_estimators=50 .............\n",
      "[CV]  bootstrap=False, criterion=entropy, n_estimators=50, total=   0.0s\n",
      "[CV] bootstrap=False, criterion=entropy, n_estimators=50 .............\n",
      "[CV]  bootstrap=False, criterion=entropy, n_estimators=50, total=   0.0s\n",
      "[CV] bootstrap=False, criterion=entropy, n_estimators=50 .............\n",
      "[CV]  bootstrap=False, criterion=entropy, n_estimators=50, total=   0.0s\n",
      "[CV] bootstrap=False, criterion=entropy, n_estimators=50 .............\n",
      "[CV]  bootstrap=False, criterion=entropy, n_estimators=50, total=   0.0s\n",
      "[CV] bootstrap=False, criterion=entropy, n_estimators=50 .............\n",
      "[CV]  bootstrap=False, criterion=entropy, n_estimators=50, total=   0.0s\n",
      "[CV] bootstrap=False, criterion=entropy, n_estimators=100 ............\n",
      "[CV]  bootstrap=False, criterion=entropy, n_estimators=100, total=   0.1s\n",
      "[CV] bootstrap=False, criterion=entropy, n_estimators=100 ............\n",
      "[CV]  bootstrap=False, criterion=entropy, n_estimators=100, total=   0.1s\n",
      "[CV] bootstrap=False, criterion=entropy, n_estimators=100 ............\n",
      "[CV]  bootstrap=False, criterion=entropy, n_estimators=100, total=   0.1s\n",
      "[CV] bootstrap=False, criterion=entropy, n_estimators=100 ............\n",
      "[CV]  bootstrap=False, criterion=entropy, n_estimators=100, total=   0.1s\n",
      "[CV] bootstrap=False, criterion=entropy, n_estimators=100 ............\n",
      "[CV]  bootstrap=False, criterion=entropy, n_estimators=100, total=   0.1s\n",
      "[CV] bootstrap=False, criterion=entropy, n_estimators=100 ............\n",
      "[CV]  bootstrap=False, criterion=entropy, n_estimators=100, total=   0.1s\n",
      "[CV] bootstrap=False, criterion=entropy, n_estimators=100 ............\n",
      "[CV]  bootstrap=False, criterion=entropy, n_estimators=100, total=   0.1s\n",
      "[CV] bootstrap=False, criterion=entropy, n_estimators=100 ............\n",
      "[CV]  bootstrap=False, criterion=entropy, n_estimators=100, total=   0.1s\n",
      "[CV] bootstrap=False, criterion=entropy, n_estimators=100 ............\n",
      "[CV]  bootstrap=False, criterion=entropy, n_estimators=100, total=   0.1s\n",
      "[CV] bootstrap=False, criterion=entropy, n_estimators=100 ............\n",
      "[CV]  bootstrap=False, criterion=entropy, n_estimators=100, total=   0.1s\n",
      "[CV] bootstrap=False, criterion=entropy, n_estimators=300 ............\n",
      "[CV]  bootstrap=False, criterion=entropy, n_estimators=300, total=   0.3s\n",
      "[CV] bootstrap=False, criterion=entropy, n_estimators=300 ............\n",
      "[CV]  bootstrap=False, criterion=entropy, n_estimators=300, total=   0.3s\n",
      "[CV] bootstrap=False, criterion=entropy, n_estimators=300 ............\n",
      "[CV]  bootstrap=False, criterion=entropy, n_estimators=300, total=   0.3s\n",
      "[CV] bootstrap=False, criterion=entropy, n_estimators=300 ............\n",
      "[CV]  bootstrap=False, criterion=entropy, n_estimators=300, total=   0.3s\n",
      "[CV] bootstrap=False, criterion=entropy, n_estimators=300 ............\n",
      "[CV]  bootstrap=False, criterion=entropy, n_estimators=300, total=   0.3s\n",
      "[CV] bootstrap=False, criterion=entropy, n_estimators=300 ............\n",
      "[CV]  bootstrap=False, criterion=entropy, n_estimators=300, total=   0.3s\n",
      "[CV] bootstrap=False, criterion=entropy, n_estimators=300 ............\n",
      "[CV]  bootstrap=False, criterion=entropy, n_estimators=300, total=   0.3s\n",
      "[CV] bootstrap=False, criterion=entropy, n_estimators=300 ............\n",
      "[CV]  bootstrap=False, criterion=entropy, n_estimators=300, total=   0.3s\n",
      "[CV] bootstrap=False, criterion=entropy, n_estimators=300 ............\n",
      "[CV]  bootstrap=False, criterion=entropy, n_estimators=300, total=   0.3s\n",
      "[CV] bootstrap=False, criterion=entropy, n_estimators=300 ............\n",
      "[CV]  bootstrap=False, criterion=entropy, n_estimators=300, total=   0.3s\n",
      "[CV] bootstrap=False, criterion=entropy, n_estimators=500 ............\n",
      "[CV]  bootstrap=False, criterion=entropy, n_estimators=500, total=   0.5s\n",
      "[CV] bootstrap=False, criterion=entropy, n_estimators=500 ............\n",
      "[CV]  bootstrap=False, criterion=entropy, n_estimators=500, total=   0.5s\n",
      "[CV] bootstrap=False, criterion=entropy, n_estimators=500 ............\n",
      "[CV]  bootstrap=False, criterion=entropy, n_estimators=500, total=   0.5s\n",
      "[CV] bootstrap=False, criterion=entropy, n_estimators=500 ............\n",
      "[CV]  bootstrap=False, criterion=entropy, n_estimators=500, total=   0.5s\n",
      "[CV] bootstrap=False, criterion=entropy, n_estimators=500 ............\n",
      "[CV]  bootstrap=False, criterion=entropy, n_estimators=500, total=   0.5s\n",
      "[CV] bootstrap=False, criterion=entropy, n_estimators=500 ............\n",
      "[CV]  bootstrap=False, criterion=entropy, n_estimators=500, total=   0.5s\n",
      "[CV] bootstrap=False, criterion=entropy, n_estimators=500 ............\n",
      "[CV]  bootstrap=False, criterion=entropy, n_estimators=500, total=   0.5s\n",
      "[CV] bootstrap=False, criterion=entropy, n_estimators=500 ............\n",
      "[CV]  bootstrap=False, criterion=entropy, n_estimators=500, total=   0.5s\n",
      "[CV] bootstrap=False, criterion=entropy, n_estimators=500 ............\n",
      "[CV]  bootstrap=False, criterion=entropy, n_estimators=500, total=   0.5s\n",
      "[CV] bootstrap=False, criterion=entropy, n_estimators=500 ............\n",
      "[CV]  bootstrap=False, criterion=entropy, n_estimators=500, total=   0.5s\n",
      "[Parallel(n_jobs=1)]: Done 160 out of 160 | elapsed:   38.6s finished\n"
     ]
    },
    {
     "output_type": "execute_result",
     "data": {
      "text/plain": [
       "GridSearchCV(cv=StratifiedShuffleSplit(n_splits=10, random_state=42, test_size=None,\n",
       "            train_size=None),\n",
       "             estimator=RandomForestClassifier(),\n",
       "             param_grid={'bootstrap': [True, False],\n",
       "                         'criterion': ['gini', 'entropy'],\n",
       "                         'n_estimators': [50, 100, 300, 500]},\n",
       "             scoring='accuracy', verbose=2)"
      ]
     },
     "metadata": {},
     "execution_count": 8
    }
   ],
   "source": [
    "# train the gridsearchCV\n",
    "grid_search.fit(x, y)\n"
   ]
  },
  {
   "cell_type": "code",
   "execution_count": 9,
   "metadata": {},
   "outputs": [
    {
     "output_type": "stream",
     "name": "stdout",
     "text": [
      "Best Hyperparameters: {'bootstrap': True, 'criterion': 'gini', 'n_estimators': 300}\n\nBest Score:  0.9888888888888889\n\nall accuracies:  [1.         0.94444444 1.         1.         1.         1.\n 0.94444444 1.         0.94444444 1.        ]\n\nmean of all accuracies 0.9833333333333334\n"
     ]
    }
   ],
   "source": [
    "print(\"Best Hyperparameters:\", grid_search.best_params_)\n",
    "print(\"\\nBest Score: \", grid_search.best_score_)\n",
    "print(\"\\nall accuracies: \", all_accuracies)\n",
    "print(\"\\nmean of all accuracies\", all_accuracies.mean())\n"
   ]
  },
  {
   "source": [
    "# Train model based on the best Hyperparameters"
   ],
   "cell_type": "markdown",
   "metadata": {}
  },
  {
   "cell_type": "code",
   "execution_count": 10,
   "metadata": {},
   "outputs": [],
   "source": [
    "# function to split the data into train and test data\n",
    "def kfold_train_test_split(x, y, train_indices, test_indices):\n",
    "  return x[train_indices], x[test_indices], y[train_indices], y[test_indices]"
   ]
  },
  {
   "cell_type": "code",
   "execution_count": 12,
   "metadata": {},
   "outputs": [],
   "source": [
    "# splits the data into 10 splits, using 9 for training and 1 for testing in each iteration\n",
    "stratified_shuffled_k_fold = model_selection.StratifiedShuffleSplit(n_splits=10, random_state=42) \n",
    "\n",
    "# Empty array to store the scores\n",
    "scores = [] \n",
    "\n",
    "for train_indices, test_indices in stratified_shuffled_k_fold.split(x, y): # y is needed here for stratification, similar to stratify = y. \n",
    "  # Split data using our predefined function\n",
    "  x_train, x_test, y_train, y_test = kfold_train_test_split(x, y, train_indices, test_indices)\n",
    "\n",
    "  # Train model\n",
    "  rfc_model = ensemble.RandomForestClassifier(bootstrap=True, criterion= 'gini', n_estimators= 300, random_state=42)\n",
    "  rfc_model.fit(x_train, y_train)\n",
    "\n",
    "  # Predict using test set\n",
    "  y_pred = rfc_model.predict(x_test)\n",
    "\n",
    "  # Calculate scores\n",
    "  accuracy = metrics.accuracy_score(y_test, y_pred)\n",
    "\n",
    "  # Append to scores array\n",
    "  scores.append(accuracy)"
   ]
  },
  {
   "cell_type": "code",
   "execution_count": 13,
   "metadata": {},
   "outputs": [
    {
     "output_type": "execute_result",
     "data": {
      "text/plain": [
       "          0\n",
       "0  1.000000\n",
       "1  1.000000\n",
       "2  1.000000\n",
       "3  1.000000\n",
       "4  1.000000\n",
       "5  1.000000\n",
       "6  0.944444\n",
       "7  1.000000\n",
       "8  0.944444\n",
       "9  1.000000"
      ],
      "text/html": "<div>\n<style scoped>\n    .dataframe tbody tr th:only-of-type {\n        vertical-align: middle;\n    }\n\n    .dataframe tbody tr th {\n        vertical-align: top;\n    }\n\n    .dataframe thead th {\n        text-align: right;\n    }\n</style>\n<table border=\"1\" class=\"dataframe\">\n  <thead>\n    <tr style=\"text-align: right;\">\n      <th></th>\n      <th>0</th>\n    </tr>\n  </thead>\n  <tbody>\n    <tr>\n      <th>0</th>\n      <td>1.000000</td>\n    </tr>\n    <tr>\n      <th>1</th>\n      <td>1.000000</td>\n    </tr>\n    <tr>\n      <th>2</th>\n      <td>1.000000</td>\n    </tr>\n    <tr>\n      <th>3</th>\n      <td>1.000000</td>\n    </tr>\n    <tr>\n      <th>4</th>\n      <td>1.000000</td>\n    </tr>\n    <tr>\n      <th>5</th>\n      <td>1.000000</td>\n    </tr>\n    <tr>\n      <th>6</th>\n      <td>0.944444</td>\n    </tr>\n    <tr>\n      <th>7</th>\n      <td>1.000000</td>\n    </tr>\n    <tr>\n      <th>8</th>\n      <td>0.944444</td>\n    </tr>\n    <tr>\n      <th>9</th>\n      <td>1.000000</td>\n    </tr>\n  </tbody>\n</table>\n</div>"
     },
     "metadata": {},
     "execution_count": 13
    }
   ],
   "source": [
    "# Conver scores array to dataframe\n",
    "scores_df = pd.DataFrame(scores)\n",
    "scores_df"
   ]
  },
  {
   "cell_type": "code",
   "execution_count": 14,
   "metadata": {},
   "outputs": [
    {
     "output_type": "execute_result",
     "data": {
      "text/plain": [
       "0    0.988889\n",
       "dtype: float64"
      ]
     },
     "metadata": {},
     "execution_count": 14
    }
   ],
   "source": [
    "# Calculate the mean of the scores\n",
    "scores_df.mean()"
   ]
  },
  {
   "source": [
    "# Finding feature important "
   ],
   "cell_type": "markdown",
   "metadata": {}
  },
  {
   "cell_type": "code",
   "execution_count": 16,
   "metadata": {},
   "outputs": [
    {
     "output_type": "execute_result",
     "data": {
      "text/plain": [
       "flavanoids                      0.175149\n",
       "proline                         0.166927\n",
       "color_intensity                 0.151976\n",
       "alcohol                         0.127704\n",
       "od280/od315_of_diluted_wines    0.103667\n",
       "hue                             0.080275\n",
       "total_phenols                   0.050275\n",
       "magnesium                       0.035507\n",
       "alcalinity_of_ash               0.028268\n",
       "malic_acid                      0.027827\n",
       "proanthocyanins                 0.025781\n",
       "ash                             0.014801\n",
       "nonflavanoid_phenols            0.011843\n",
       "dtype: float64"
      ]
     },
     "metadata": {},
     "execution_count": 16
    }
   ],
   "source": [
    "data = datasets.load_wine()\n",
    "feature_imp = pd.Series(rfc_model.feature_importances_,index=data.feature_names).sort_values(ascending=False)\n",
    "feature_imp"
   ]
  },
  {
   "cell_type": "code",
   "execution_count": 17,
   "metadata": {},
   "outputs": [
    {
     "output_type": "stream",
     "name": "stderr",
     "text": [
      "No handles with labels found to put in legend.\n"
     ]
    },
    {
     "output_type": "display_data",
     "data": {
      "text/plain": "<Figure size 432x288 with 1 Axes>",
      "image/svg+xml": "<?xml version=\"1.0\" encoding=\"utf-8\" standalone=\"no\"?>\r\n<!DOCTYPE svg PUBLIC \"-//W3C//DTD SVG 1.1//EN\"\r\n  \"http://www.w3.org/Graphics/SVG/1.1/DTD/svg11.dtd\">\r\n<!-- Created with matplotlib (https://matplotlib.org/) -->\r\n<svg height=\"277.314375pt\" version=\"1.1\" viewBox=\"0 0 524.315625 277.314375\" width=\"524.315625pt\" xmlns=\"http://www.w3.org/2000/svg\" xmlns:xlink=\"http://www.w3.org/1999/xlink\">\r\n <metadata>\r\n  <rdf:RDF xmlns:cc=\"http://creativecommons.org/ns#\" xmlns:dc=\"http://purl.org/dc/elements/1.1/\" xmlns:rdf=\"http://www.w3.org/1999/02/22-rdf-syntax-ns#\">\r\n   <cc:Work>\r\n    <dc:type rdf:resource=\"http://purl.org/dc/dcmitype/StillImage\"/>\r\n    <dc:date>2021-01-14T12:22:25.780307</dc:date>\r\n    <dc:format>image/svg+xml</dc:format>\r\n    <dc:creator>\r\n     <cc:Agent>\r\n      <dc:title>Matplotlib v3.3.2, https://matplotlib.org/</dc:title>\r\n     </cc:Agent>\r\n    </dc:creator>\r\n   </cc:Work>\r\n  </rdf:RDF>\r\n </metadata>\r\n <defs>\r\n  <style type=\"text/css\">*{stroke-linecap:butt;stroke-linejoin:round;}</style>\r\n </defs>\r\n <g id=\"figure_1\">\r\n  <g id=\"patch_1\">\r\n   <path d=\"M 0 277.314375 \r\nL 524.315625 277.314375 \r\nL 524.315625 0 \r\nL 0 0 \r\nz\r\n\" style=\"fill:none;\"/>\r\n  </g>\r\n  <g id=\"axes_1\">\r\n   <g id=\"patch_2\">\r\n    <path d=\"M 182.315625 239.758125 \r\nL 517.115625 239.758125 \r\nL 517.115625 22.318125 \r\nL 182.315625 22.318125 \r\nz\r\n\" style=\"fill:#ffffff;\"/>\r\n   </g>\r\n   <g id=\"patch_3\">\r\n    <path clip-path=\"url(#p7e709efd7b)\" d=\"M 182.315625 23.99074 \r\nL 501.172768 23.99074 \r\nL 501.172768 37.371663 \r\nL 182.315625 37.371663 \r\nz\r\n\" style=\"fill:#ea96a3;\"/>\r\n   </g>\r\n   <g id=\"patch_4\">\r\n    <path clip-path=\"url(#p7e709efd7b)\" d=\"M 182.315625 40.716894 \r\nL 486.206237 40.716894 \r\nL 486.206237 54.097817 \r\nL 182.315625 54.097817 \r\nz\r\n\" style=\"fill:#e39361;\"/>\r\n   </g>\r\n   <g id=\"patch_5\">\r\n    <path clip-path=\"url(#p7e709efd7b)\" d=\"M 182.315625 57.443048 \r\nL 458.98723 57.443048 \r\nL 458.98723 70.823971 \r\nL 182.315625 70.823971 \r\nz\r\n\" style=\"fill:#be9b4a;\"/>\r\n   </g>\r\n   <g id=\"patch_6\">\r\n    <path clip-path=\"url(#p7e709efd7b)\" d=\"M 182.315625 74.169202 \r\nL 414.800239 74.169202 \r\nL 414.800239 87.550125 \r\nL 182.315625 87.550125 \r\nz\r\n\" style=\"fill:#9fa045;\"/>\r\n   </g>\r\n   <g id=\"patch_7\">\r\n    <path clip-path=\"url(#p7e709efd7b)\" d=\"M 182.315625 90.895356 \r\nL 371.041319 90.895356 \r\nL 371.041319 104.276279 \r\nL 182.315625 104.276279 \r\nz\r\n\" style=\"fill:#7aaa47;\"/>\r\n   </g>\r\n   <g id=\"patch_8\">\r\n    <path clip-path=\"url(#p7e709efd7b)\" d=\"M 182.315625 107.62151 \r\nL 328.456322 107.62151 \r\nL 328.456322 121.002433 \r\nL 182.315625 121.002433 \r\nz\r\n\" style=\"fill:#49af79;\"/>\r\n   </g>\r\n   <g id=\"patch_9\">\r\n    <path clip-path=\"url(#p7e709efd7b)\" d=\"M 182.315625 124.347663 \r\nL 273.840287 124.347663 \r\nL 273.840287 137.728587 \r\nL 182.315625 137.728587 \r\nz\r\n\" style=\"fill:#4aac9a;\"/>\r\n   </g>\r\n   <g id=\"patch_10\">\r\n    <path clip-path=\"url(#p7e709efd7b)\" d=\"M 182.315625 141.073817 \r\nL 246.955259 141.073817 \r\nL 246.955259 154.45474 \r\nL 182.315625 154.45474 \r\nz\r\n\" style=\"fill:#4cabae;\"/>\r\n   </g>\r\n   <g id=\"patch_11\">\r\n    <path clip-path=\"url(#p7e709efd7b)\" d=\"M 182.315625 157.799971 \r\nL 233.778069 157.799971 \r\nL 233.778069 171.180894 \r\nL 182.315625 171.180894 \r\nz\r\n\" style=\"fill:#52acc9;\"/>\r\n   </g>\r\n   <g id=\"patch_12\">\r\n    <path clip-path=\"url(#p7e709efd7b)\" d=\"M 182.315625 174.526125 \r\nL 232.974481 174.526125 \r\nL 232.974481 187.907048 \r\nL 182.315625 187.907048 \r\nz\r\n\" style=\"fill:#8daee7;\"/>\r\n   </g>\r\n   <g id=\"patch_13\">\r\n    <path clip-path=\"url(#p7e709efd7b)\" d=\"M 182.315625 191.252279 \r\nL 229.249931 191.252279 \r\nL 229.249931 204.633202 \r\nL 182.315625 204.633202 \r\nz\r\n\" style=\"fill:#bfa3ea;\"/>\r\n   </g>\r\n   <g id=\"patch_14\">\r\n    <path clip-path=\"url(#p7e709efd7b)\" d=\"M 182.315625 207.978433 \r\nL 209.261112 207.978433 \r\nL 209.261112 221.359356 \r\nL 182.315625 221.359356 \r\nz\r\n\" style=\"fill:#e689e6;\"/>\r\n   </g>\r\n   <g id=\"patch_15\">\r\n    <path clip-path=\"url(#p7e709efd7b)\" d=\"M 182.315625 224.704587 \r\nL 203.875444 224.704587 \r\nL 203.875444 238.08551 \r\nL 182.315625 238.08551 \r\nz\r\n\" style=\"fill:#e891c3;\"/>\r\n   </g>\r\n   <g id=\"matplotlib.axis_1\">\r\n    <g id=\"xtick_1\">\r\n     <g id=\"line2d_1\">\r\n      <defs>\r\n       <path d=\"M 0 0 \r\nL 0 3.5 \r\n\" id=\"m90d547bfe0\" style=\"stroke:#000000;stroke-width:0.8;\"/>\r\n      </defs>\r\n      <g>\r\n       <use style=\"stroke:#000000;stroke-width:0.8;\" x=\"182.315625\" xlink:href=\"#m90d547bfe0\" y=\"239.758125\"/>\r\n      </g>\r\n     </g>\r\n     <g id=\"text_1\">\r\n      <!-- 0.000 -->\r\n      <g transform=\"translate(168.001563 254.356562)scale(0.1 -0.1)\">\r\n       <defs>\r\n        <path d=\"M 31.78125 66.40625 \r\nQ 24.171875 66.40625 20.328125 58.90625 \r\nQ 16.5 51.421875 16.5 36.375 \r\nQ 16.5 21.390625 20.328125 13.890625 \r\nQ 24.171875 6.390625 31.78125 6.390625 \r\nQ 39.453125 6.390625 43.28125 13.890625 \r\nQ 47.125 21.390625 47.125 36.375 \r\nQ 47.125 51.421875 43.28125 58.90625 \r\nQ 39.453125 66.40625 31.78125 66.40625 \r\nz\r\nM 31.78125 74.21875 \r\nQ 44.046875 74.21875 50.515625 64.515625 \r\nQ 56.984375 54.828125 56.984375 36.375 \r\nQ 56.984375 17.96875 50.515625 8.265625 \r\nQ 44.046875 -1.421875 31.78125 -1.421875 \r\nQ 19.53125 -1.421875 13.0625 8.265625 \r\nQ 6.59375 17.96875 6.59375 36.375 \r\nQ 6.59375 54.828125 13.0625 64.515625 \r\nQ 19.53125 74.21875 31.78125 74.21875 \r\nz\r\n\" id=\"DejaVuSans-48\"/>\r\n        <path d=\"M 10.6875 12.40625 \r\nL 21 12.40625 \r\nL 21 0 \r\nL 10.6875 0 \r\nz\r\n\" id=\"DejaVuSans-46\"/>\r\n       </defs>\r\n       <use xlink:href=\"#DejaVuSans-48\"/>\r\n       <use x=\"63.623047\" xlink:href=\"#DejaVuSans-46\"/>\r\n       <use x=\"95.410156\" xlink:href=\"#DejaVuSans-48\"/>\r\n       <use x=\"159.033203\" xlink:href=\"#DejaVuSans-48\"/>\r\n       <use x=\"222.65625\" xlink:href=\"#DejaVuSans-48\"/>\r\n      </g>\r\n     </g>\r\n    </g>\r\n    <g id=\"xtick_2\">\r\n     <g id=\"line2d_2\">\r\n      <g>\r\n       <use style=\"stroke:#000000;stroke-width:0.8;\" x=\"227.828014\" xlink:href=\"#m90d547bfe0\" y=\"239.758125\"/>\r\n      </g>\r\n     </g>\r\n     <g id=\"text_2\">\r\n      <!-- 0.025 -->\r\n      <g transform=\"translate(213.513952 254.356562)scale(0.1 -0.1)\">\r\n       <defs>\r\n        <path d=\"M 19.1875 8.296875 \r\nL 53.609375 8.296875 \r\nL 53.609375 0 \r\nL 7.328125 0 \r\nL 7.328125 8.296875 \r\nQ 12.9375 14.109375 22.625 23.890625 \r\nQ 32.328125 33.6875 34.8125 36.53125 \r\nQ 39.546875 41.84375 41.421875 45.53125 \r\nQ 43.3125 49.21875 43.3125 52.78125 \r\nQ 43.3125 58.59375 39.234375 62.25 \r\nQ 35.15625 65.921875 28.609375 65.921875 \r\nQ 23.96875 65.921875 18.8125 64.3125 \r\nQ 13.671875 62.703125 7.8125 59.421875 \r\nL 7.8125 69.390625 \r\nQ 13.765625 71.78125 18.9375 73 \r\nQ 24.125 74.21875 28.421875 74.21875 \r\nQ 39.75 74.21875 46.484375 68.546875 \r\nQ 53.21875 62.890625 53.21875 53.421875 \r\nQ 53.21875 48.921875 51.53125 44.890625 \r\nQ 49.859375 40.875 45.40625 35.40625 \r\nQ 44.1875 33.984375 37.640625 27.21875 \r\nQ 31.109375 20.453125 19.1875 8.296875 \r\nz\r\n\" id=\"DejaVuSans-50\"/>\r\n        <path d=\"M 10.796875 72.90625 \r\nL 49.515625 72.90625 \r\nL 49.515625 64.59375 \r\nL 19.828125 64.59375 \r\nL 19.828125 46.734375 \r\nQ 21.96875 47.46875 24.109375 47.828125 \r\nQ 26.265625 48.1875 28.421875 48.1875 \r\nQ 40.625 48.1875 47.75 41.5 \r\nQ 54.890625 34.8125 54.890625 23.390625 \r\nQ 54.890625 11.625 47.5625 5.09375 \r\nQ 40.234375 -1.421875 26.90625 -1.421875 \r\nQ 22.3125 -1.421875 17.546875 -0.640625 \r\nQ 12.796875 0.140625 7.71875 1.703125 \r\nL 7.71875 11.625 \r\nQ 12.109375 9.234375 16.796875 8.0625 \r\nQ 21.484375 6.890625 26.703125 6.890625 \r\nQ 35.15625 6.890625 40.078125 11.328125 \r\nQ 45.015625 15.765625 45.015625 23.390625 \r\nQ 45.015625 31 40.078125 35.4375 \r\nQ 35.15625 39.890625 26.703125 39.890625 \r\nQ 22.75 39.890625 18.8125 39.015625 \r\nQ 14.890625 38.140625 10.796875 36.28125 \r\nz\r\n\" id=\"DejaVuSans-53\"/>\r\n       </defs>\r\n       <use xlink:href=\"#DejaVuSans-48\"/>\r\n       <use x=\"63.623047\" xlink:href=\"#DejaVuSans-46\"/>\r\n       <use x=\"95.410156\" xlink:href=\"#DejaVuSans-48\"/>\r\n       <use x=\"159.033203\" xlink:href=\"#DejaVuSans-50\"/>\r\n       <use x=\"222.65625\" xlink:href=\"#DejaVuSans-53\"/>\r\n      </g>\r\n     </g>\r\n    </g>\r\n    <g id=\"xtick_3\">\r\n     <g id=\"line2d_3\">\r\n      <g>\r\n       <use style=\"stroke:#000000;stroke-width:0.8;\" x=\"273.340404\" xlink:href=\"#m90d547bfe0\" y=\"239.758125\"/>\r\n      </g>\r\n     </g>\r\n     <g id=\"text_3\">\r\n      <!-- 0.050 -->\r\n      <g transform=\"translate(259.026341 254.356562)scale(0.1 -0.1)\">\r\n       <use xlink:href=\"#DejaVuSans-48\"/>\r\n       <use x=\"63.623047\" xlink:href=\"#DejaVuSans-46\"/>\r\n       <use x=\"95.410156\" xlink:href=\"#DejaVuSans-48\"/>\r\n       <use x=\"159.033203\" xlink:href=\"#DejaVuSans-53\"/>\r\n       <use x=\"222.65625\" xlink:href=\"#DejaVuSans-48\"/>\r\n      </g>\r\n     </g>\r\n    </g>\r\n    <g id=\"xtick_4\">\r\n     <g id=\"line2d_4\">\r\n      <g>\r\n       <use style=\"stroke:#000000;stroke-width:0.8;\" x=\"318.852793\" xlink:href=\"#m90d547bfe0\" y=\"239.758125\"/>\r\n      </g>\r\n     </g>\r\n     <g id=\"text_4\">\r\n      <!-- 0.075 -->\r\n      <g transform=\"translate(304.53873 254.356562)scale(0.1 -0.1)\">\r\n       <defs>\r\n        <path d=\"M 8.203125 72.90625 \r\nL 55.078125 72.90625 \r\nL 55.078125 68.703125 \r\nL 28.609375 0 \r\nL 18.3125 0 \r\nL 43.21875 64.59375 \r\nL 8.203125 64.59375 \r\nz\r\n\" id=\"DejaVuSans-55\"/>\r\n       </defs>\r\n       <use xlink:href=\"#DejaVuSans-48\"/>\r\n       <use x=\"63.623047\" xlink:href=\"#DejaVuSans-46\"/>\r\n       <use x=\"95.410156\" xlink:href=\"#DejaVuSans-48\"/>\r\n       <use x=\"159.033203\" xlink:href=\"#DejaVuSans-55\"/>\r\n       <use x=\"222.65625\" xlink:href=\"#DejaVuSans-53\"/>\r\n      </g>\r\n     </g>\r\n    </g>\r\n    <g id=\"xtick_5\">\r\n     <g id=\"line2d_5\">\r\n      <g>\r\n       <use style=\"stroke:#000000;stroke-width:0.8;\" x=\"364.365182\" xlink:href=\"#m90d547bfe0\" y=\"239.758125\"/>\r\n      </g>\r\n     </g>\r\n     <g id=\"text_5\">\r\n      <!-- 0.100 -->\r\n      <g transform=\"translate(350.05112 254.356562)scale(0.1 -0.1)\">\r\n       <defs>\r\n        <path d=\"M 12.40625 8.296875 \r\nL 28.515625 8.296875 \r\nL 28.515625 63.921875 \r\nL 10.984375 60.40625 \r\nL 10.984375 69.390625 \r\nL 28.421875 72.90625 \r\nL 38.28125 72.90625 \r\nL 38.28125 8.296875 \r\nL 54.390625 8.296875 \r\nL 54.390625 0 \r\nL 12.40625 0 \r\nz\r\n\" id=\"DejaVuSans-49\"/>\r\n       </defs>\r\n       <use xlink:href=\"#DejaVuSans-48\"/>\r\n       <use x=\"63.623047\" xlink:href=\"#DejaVuSans-46\"/>\r\n       <use x=\"95.410156\" xlink:href=\"#DejaVuSans-49\"/>\r\n       <use x=\"159.033203\" xlink:href=\"#DejaVuSans-48\"/>\r\n       <use x=\"222.65625\" xlink:href=\"#DejaVuSans-48\"/>\r\n      </g>\r\n     </g>\r\n    </g>\r\n    <g id=\"xtick_6\">\r\n     <g id=\"line2d_6\">\r\n      <g>\r\n       <use style=\"stroke:#000000;stroke-width:0.8;\" x=\"409.877572\" xlink:href=\"#m90d547bfe0\" y=\"239.758125\"/>\r\n      </g>\r\n     </g>\r\n     <g id=\"text_6\">\r\n      <!-- 0.125 -->\r\n      <g transform=\"translate(395.563509 254.356562)scale(0.1 -0.1)\">\r\n       <use xlink:href=\"#DejaVuSans-48\"/>\r\n       <use x=\"63.623047\" xlink:href=\"#DejaVuSans-46\"/>\r\n       <use x=\"95.410156\" xlink:href=\"#DejaVuSans-49\"/>\r\n       <use x=\"159.033203\" xlink:href=\"#DejaVuSans-50\"/>\r\n       <use x=\"222.65625\" xlink:href=\"#DejaVuSans-53\"/>\r\n      </g>\r\n     </g>\r\n    </g>\r\n    <g id=\"xtick_7\">\r\n     <g id=\"line2d_7\">\r\n      <g>\r\n       <use style=\"stroke:#000000;stroke-width:0.8;\" x=\"455.389961\" xlink:href=\"#m90d547bfe0\" y=\"239.758125\"/>\r\n      </g>\r\n     </g>\r\n     <g id=\"text_7\">\r\n      <!-- 0.150 -->\r\n      <g transform=\"translate(441.075898 254.356562)scale(0.1 -0.1)\">\r\n       <use xlink:href=\"#DejaVuSans-48\"/>\r\n       <use x=\"63.623047\" xlink:href=\"#DejaVuSans-46\"/>\r\n       <use x=\"95.410156\" xlink:href=\"#DejaVuSans-49\"/>\r\n       <use x=\"159.033203\" xlink:href=\"#DejaVuSans-53\"/>\r\n       <use x=\"222.65625\" xlink:href=\"#DejaVuSans-48\"/>\r\n      </g>\r\n     </g>\r\n    </g>\r\n    <g id=\"xtick_8\">\r\n     <g id=\"line2d_8\">\r\n      <g>\r\n       <use style=\"stroke:#000000;stroke-width:0.8;\" x=\"500.90235\" xlink:href=\"#m90d547bfe0\" y=\"239.758125\"/>\r\n      </g>\r\n     </g>\r\n     <g id=\"text_8\">\r\n      <!-- 0.175 -->\r\n      <g transform=\"translate(486.588288 254.356562)scale(0.1 -0.1)\">\r\n       <use xlink:href=\"#DejaVuSans-48\"/>\r\n       <use x=\"63.623047\" xlink:href=\"#DejaVuSans-46\"/>\r\n       <use x=\"95.410156\" xlink:href=\"#DejaVuSans-49\"/>\r\n       <use x=\"159.033203\" xlink:href=\"#DejaVuSans-55\"/>\r\n       <use x=\"222.65625\" xlink:href=\"#DejaVuSans-53\"/>\r\n      </g>\r\n     </g>\r\n    </g>\r\n    <g id=\"text_9\">\r\n     <!-- Feature Importance Score -->\r\n     <g transform=\"translate(284.992187 268.034687)scale(0.1 -0.1)\">\r\n      <defs>\r\n       <path d=\"M 9.8125 72.90625 \r\nL 51.703125 72.90625 \r\nL 51.703125 64.59375 \r\nL 19.671875 64.59375 \r\nL 19.671875 43.109375 \r\nL 48.578125 43.109375 \r\nL 48.578125 34.8125 \r\nL 19.671875 34.8125 \r\nL 19.671875 0 \r\nL 9.8125 0 \r\nz\r\n\" id=\"DejaVuSans-70\"/>\r\n       <path d=\"M 56.203125 29.59375 \r\nL 56.203125 25.203125 \r\nL 14.890625 25.203125 \r\nQ 15.484375 15.921875 20.484375 11.0625 \r\nQ 25.484375 6.203125 34.421875 6.203125 \r\nQ 39.59375 6.203125 44.453125 7.46875 \r\nQ 49.3125 8.734375 54.109375 11.28125 \r\nL 54.109375 2.78125 \r\nQ 49.265625 0.734375 44.1875 -0.34375 \r\nQ 39.109375 -1.421875 33.890625 -1.421875 \r\nQ 20.796875 -1.421875 13.15625 6.1875 \r\nQ 5.515625 13.8125 5.515625 26.8125 \r\nQ 5.515625 40.234375 12.765625 48.109375 \r\nQ 20.015625 56 32.328125 56 \r\nQ 43.359375 56 49.78125 48.890625 \r\nQ 56.203125 41.796875 56.203125 29.59375 \r\nz\r\nM 47.21875 32.234375 \r\nQ 47.125 39.59375 43.09375 43.984375 \r\nQ 39.0625 48.390625 32.421875 48.390625 \r\nQ 24.90625 48.390625 20.390625 44.140625 \r\nQ 15.875 39.890625 15.1875 32.171875 \r\nz\r\n\" id=\"DejaVuSans-101\"/>\r\n       <path d=\"M 34.28125 27.484375 \r\nQ 23.390625 27.484375 19.1875 25 \r\nQ 14.984375 22.515625 14.984375 16.5 \r\nQ 14.984375 11.71875 18.140625 8.90625 \r\nQ 21.296875 6.109375 26.703125 6.109375 \r\nQ 34.1875 6.109375 38.703125 11.40625 \r\nQ 43.21875 16.703125 43.21875 25.484375 \r\nL 43.21875 27.484375 \r\nz\r\nM 52.203125 31.203125 \r\nL 52.203125 0 \r\nL 43.21875 0 \r\nL 43.21875 8.296875 \r\nQ 40.140625 3.328125 35.546875 0.953125 \r\nQ 30.953125 -1.421875 24.3125 -1.421875 \r\nQ 15.921875 -1.421875 10.953125 3.296875 \r\nQ 6 8.015625 6 15.921875 \r\nQ 6 25.140625 12.171875 29.828125 \r\nQ 18.359375 34.515625 30.609375 34.515625 \r\nL 43.21875 34.515625 \r\nL 43.21875 35.40625 \r\nQ 43.21875 41.609375 39.140625 45 \r\nQ 35.0625 48.390625 27.6875 48.390625 \r\nQ 23 48.390625 18.546875 47.265625 \r\nQ 14.109375 46.140625 10.015625 43.890625 \r\nL 10.015625 52.203125 \r\nQ 14.9375 54.109375 19.578125 55.046875 \r\nQ 24.21875 56 28.609375 56 \r\nQ 40.484375 56 46.34375 49.84375 \r\nQ 52.203125 43.703125 52.203125 31.203125 \r\nz\r\n\" id=\"DejaVuSans-97\"/>\r\n       <path d=\"M 18.3125 70.21875 \r\nL 18.3125 54.6875 \r\nL 36.8125 54.6875 \r\nL 36.8125 47.703125 \r\nL 18.3125 47.703125 \r\nL 18.3125 18.015625 \r\nQ 18.3125 11.328125 20.140625 9.421875 \r\nQ 21.96875 7.515625 27.59375 7.515625 \r\nL 36.8125 7.515625 \r\nL 36.8125 0 \r\nL 27.59375 0 \r\nQ 17.1875 0 13.234375 3.875 \r\nQ 9.28125 7.765625 9.28125 18.015625 \r\nL 9.28125 47.703125 \r\nL 2.6875 47.703125 \r\nL 2.6875 54.6875 \r\nL 9.28125 54.6875 \r\nL 9.28125 70.21875 \r\nz\r\n\" id=\"DejaVuSans-116\"/>\r\n       <path d=\"M 8.5 21.578125 \r\nL 8.5 54.6875 \r\nL 17.484375 54.6875 \r\nL 17.484375 21.921875 \r\nQ 17.484375 14.15625 20.5 10.265625 \r\nQ 23.53125 6.390625 29.59375 6.390625 \r\nQ 36.859375 6.390625 41.078125 11.03125 \r\nQ 45.3125 15.671875 45.3125 23.6875 \r\nL 45.3125 54.6875 \r\nL 54.296875 54.6875 \r\nL 54.296875 0 \r\nL 45.3125 0 \r\nL 45.3125 8.40625 \r\nQ 42.046875 3.421875 37.71875 1 \r\nQ 33.40625 -1.421875 27.6875 -1.421875 \r\nQ 18.265625 -1.421875 13.375 4.4375 \r\nQ 8.5 10.296875 8.5 21.578125 \r\nz\r\nM 31.109375 56 \r\nz\r\n\" id=\"DejaVuSans-117\"/>\r\n       <path d=\"M 41.109375 46.296875 \r\nQ 39.59375 47.171875 37.8125 47.578125 \r\nQ 36.03125 48 33.890625 48 \r\nQ 26.265625 48 22.1875 43.046875 \r\nQ 18.109375 38.09375 18.109375 28.8125 \r\nL 18.109375 0 \r\nL 9.078125 0 \r\nL 9.078125 54.6875 \r\nL 18.109375 54.6875 \r\nL 18.109375 46.1875 \r\nQ 20.953125 51.171875 25.484375 53.578125 \r\nQ 30.03125 56 36.53125 56 \r\nQ 37.453125 56 38.578125 55.875 \r\nQ 39.703125 55.765625 41.0625 55.515625 \r\nz\r\n\" id=\"DejaVuSans-114\"/>\r\n       <path id=\"DejaVuSans-32\"/>\r\n       <path d=\"M 9.8125 72.90625 \r\nL 19.671875 72.90625 \r\nL 19.671875 0 \r\nL 9.8125 0 \r\nz\r\n\" id=\"DejaVuSans-73\"/>\r\n       <path d=\"M 52 44.1875 \r\nQ 55.375 50.25 60.0625 53.125 \r\nQ 64.75 56 71.09375 56 \r\nQ 79.640625 56 84.28125 50.015625 \r\nQ 88.921875 44.046875 88.921875 33.015625 \r\nL 88.921875 0 \r\nL 79.890625 0 \r\nL 79.890625 32.71875 \r\nQ 79.890625 40.578125 77.09375 44.375 \r\nQ 74.3125 48.1875 68.609375 48.1875 \r\nQ 61.625 48.1875 57.5625 43.546875 \r\nQ 53.515625 38.921875 53.515625 30.90625 \r\nL 53.515625 0 \r\nL 44.484375 0 \r\nL 44.484375 32.71875 \r\nQ 44.484375 40.625 41.703125 44.40625 \r\nQ 38.921875 48.1875 33.109375 48.1875 \r\nQ 26.21875 48.1875 22.15625 43.53125 \r\nQ 18.109375 38.875 18.109375 30.90625 \r\nL 18.109375 0 \r\nL 9.078125 0 \r\nL 9.078125 54.6875 \r\nL 18.109375 54.6875 \r\nL 18.109375 46.1875 \r\nQ 21.1875 51.21875 25.484375 53.609375 \r\nQ 29.78125 56 35.6875 56 \r\nQ 41.65625 56 45.828125 52.96875 \r\nQ 50 49.953125 52 44.1875 \r\nz\r\n\" id=\"DejaVuSans-109\"/>\r\n       <path d=\"M 18.109375 8.203125 \r\nL 18.109375 -20.796875 \r\nL 9.078125 -20.796875 \r\nL 9.078125 54.6875 \r\nL 18.109375 54.6875 \r\nL 18.109375 46.390625 \r\nQ 20.953125 51.265625 25.265625 53.625 \r\nQ 29.59375 56 35.59375 56 \r\nQ 45.5625 56 51.78125 48.09375 \r\nQ 58.015625 40.1875 58.015625 27.296875 \r\nQ 58.015625 14.40625 51.78125 6.484375 \r\nQ 45.5625 -1.421875 35.59375 -1.421875 \r\nQ 29.59375 -1.421875 25.265625 0.953125 \r\nQ 20.953125 3.328125 18.109375 8.203125 \r\nz\r\nM 48.6875 27.296875 \r\nQ 48.6875 37.203125 44.609375 42.84375 \r\nQ 40.53125 48.484375 33.40625 48.484375 \r\nQ 26.265625 48.484375 22.1875 42.84375 \r\nQ 18.109375 37.203125 18.109375 27.296875 \r\nQ 18.109375 17.390625 22.1875 11.75 \r\nQ 26.265625 6.109375 33.40625 6.109375 \r\nQ 40.53125 6.109375 44.609375 11.75 \r\nQ 48.6875 17.390625 48.6875 27.296875 \r\nz\r\n\" id=\"DejaVuSans-112\"/>\r\n       <path d=\"M 30.609375 48.390625 \r\nQ 23.390625 48.390625 19.1875 42.75 \r\nQ 14.984375 37.109375 14.984375 27.296875 \r\nQ 14.984375 17.484375 19.15625 11.84375 \r\nQ 23.34375 6.203125 30.609375 6.203125 \r\nQ 37.796875 6.203125 41.984375 11.859375 \r\nQ 46.1875 17.53125 46.1875 27.296875 \r\nQ 46.1875 37.015625 41.984375 42.703125 \r\nQ 37.796875 48.390625 30.609375 48.390625 \r\nz\r\nM 30.609375 56 \r\nQ 42.328125 56 49.015625 48.375 \r\nQ 55.71875 40.765625 55.71875 27.296875 \r\nQ 55.71875 13.875 49.015625 6.21875 \r\nQ 42.328125 -1.421875 30.609375 -1.421875 \r\nQ 18.84375 -1.421875 12.171875 6.21875 \r\nQ 5.515625 13.875 5.515625 27.296875 \r\nQ 5.515625 40.765625 12.171875 48.375 \r\nQ 18.84375 56 30.609375 56 \r\nz\r\n\" id=\"DejaVuSans-111\"/>\r\n       <path d=\"M 54.890625 33.015625 \r\nL 54.890625 0 \r\nL 45.90625 0 \r\nL 45.90625 32.71875 \r\nQ 45.90625 40.484375 42.875 44.328125 \r\nQ 39.84375 48.1875 33.796875 48.1875 \r\nQ 26.515625 48.1875 22.3125 43.546875 \r\nQ 18.109375 38.921875 18.109375 30.90625 \r\nL 18.109375 0 \r\nL 9.078125 0 \r\nL 9.078125 54.6875 \r\nL 18.109375 54.6875 \r\nL 18.109375 46.1875 \r\nQ 21.34375 51.125 25.703125 53.5625 \r\nQ 30.078125 56 35.796875 56 \r\nQ 45.21875 56 50.046875 50.171875 \r\nQ 54.890625 44.34375 54.890625 33.015625 \r\nz\r\n\" id=\"DejaVuSans-110\"/>\r\n       <path d=\"M 48.78125 52.59375 \r\nL 48.78125 44.1875 \r\nQ 44.96875 46.296875 41.140625 47.34375 \r\nQ 37.3125 48.390625 33.40625 48.390625 \r\nQ 24.65625 48.390625 19.8125 42.84375 \r\nQ 14.984375 37.3125 14.984375 27.296875 \r\nQ 14.984375 17.28125 19.8125 11.734375 \r\nQ 24.65625 6.203125 33.40625 6.203125 \r\nQ 37.3125 6.203125 41.140625 7.25 \r\nQ 44.96875 8.296875 48.78125 10.40625 \r\nL 48.78125 2.09375 \r\nQ 45.015625 0.34375 40.984375 -0.53125 \r\nQ 36.96875 -1.421875 32.421875 -1.421875 \r\nQ 20.0625 -1.421875 12.78125 6.34375 \r\nQ 5.515625 14.109375 5.515625 27.296875 \r\nQ 5.515625 40.671875 12.859375 48.328125 \r\nQ 20.21875 56 33.015625 56 \r\nQ 37.15625 56 41.109375 55.140625 \r\nQ 45.0625 54.296875 48.78125 52.59375 \r\nz\r\n\" id=\"DejaVuSans-99\"/>\r\n       <path d=\"M 53.515625 70.515625 \r\nL 53.515625 60.890625 \r\nQ 47.90625 63.578125 42.921875 64.890625 \r\nQ 37.9375 66.21875 33.296875 66.21875 \r\nQ 25.25 66.21875 20.875 63.09375 \r\nQ 16.5 59.96875 16.5 54.203125 \r\nQ 16.5 49.359375 19.40625 46.890625 \r\nQ 22.3125 44.4375 30.421875 42.921875 \r\nL 36.375 41.703125 \r\nQ 47.40625 39.59375 52.65625 34.296875 \r\nQ 57.90625 29 57.90625 20.125 \r\nQ 57.90625 9.515625 50.796875 4.046875 \r\nQ 43.703125 -1.421875 29.984375 -1.421875 \r\nQ 24.8125 -1.421875 18.96875 -0.25 \r\nQ 13.140625 0.921875 6.890625 3.21875 \r\nL 6.890625 13.375 \r\nQ 12.890625 10.015625 18.65625 8.296875 \r\nQ 24.421875 6.59375 29.984375 6.59375 \r\nQ 38.421875 6.59375 43.015625 9.90625 \r\nQ 47.609375 13.234375 47.609375 19.390625 \r\nQ 47.609375 24.75 44.3125 27.78125 \r\nQ 41.015625 30.8125 33.5 32.328125 \r\nL 27.484375 33.5 \r\nQ 16.453125 35.6875 11.515625 40.375 \r\nQ 6.59375 45.0625 6.59375 53.421875 \r\nQ 6.59375 63.09375 13.40625 68.65625 \r\nQ 20.21875 74.21875 32.171875 74.21875 \r\nQ 37.3125 74.21875 42.625 73.28125 \r\nQ 47.953125 72.359375 53.515625 70.515625 \r\nz\r\n\" id=\"DejaVuSans-83\"/>\r\n      </defs>\r\n      <use xlink:href=\"#DejaVuSans-70\"/>\r\n      <use x=\"52.019531\" xlink:href=\"#DejaVuSans-101\"/>\r\n      <use x=\"113.542969\" xlink:href=\"#DejaVuSans-97\"/>\r\n      <use x=\"174.822266\" xlink:href=\"#DejaVuSans-116\"/>\r\n      <use x=\"214.03125\" xlink:href=\"#DejaVuSans-117\"/>\r\n      <use x=\"277.410156\" xlink:href=\"#DejaVuSans-114\"/>\r\n      <use x=\"316.273438\" xlink:href=\"#DejaVuSans-101\"/>\r\n      <use x=\"377.796875\" xlink:href=\"#DejaVuSans-32\"/>\r\n      <use x=\"409.583984\" xlink:href=\"#DejaVuSans-73\"/>\r\n      <use x=\"439.076172\" xlink:href=\"#DejaVuSans-109\"/>\r\n      <use x=\"536.488281\" xlink:href=\"#DejaVuSans-112\"/>\r\n      <use x=\"599.964844\" xlink:href=\"#DejaVuSans-111\"/>\r\n      <use x=\"661.146484\" xlink:href=\"#DejaVuSans-114\"/>\r\n      <use x=\"702.259766\" xlink:href=\"#DejaVuSans-116\"/>\r\n      <use x=\"741.46875\" xlink:href=\"#DejaVuSans-97\"/>\r\n      <use x=\"802.748047\" xlink:href=\"#DejaVuSans-110\"/>\r\n      <use x=\"866.126953\" xlink:href=\"#DejaVuSans-99\"/>\r\n      <use x=\"921.107422\" xlink:href=\"#DejaVuSans-101\"/>\r\n      <use x=\"982.630859\" xlink:href=\"#DejaVuSans-32\"/>\r\n      <use x=\"1014.417969\" xlink:href=\"#DejaVuSans-83\"/>\r\n      <use x=\"1077.894531\" xlink:href=\"#DejaVuSans-99\"/>\r\n      <use x=\"1132.875\" xlink:href=\"#DejaVuSans-111\"/>\r\n      <use x=\"1194.056641\" xlink:href=\"#DejaVuSans-114\"/>\r\n      <use x=\"1232.919922\" xlink:href=\"#DejaVuSans-101\"/>\r\n     </g>\r\n    </g>\r\n   </g>\r\n   <g id=\"matplotlib.axis_2\">\r\n    <g id=\"ytick_1\">\r\n     <g id=\"line2d_9\">\r\n      <defs>\r\n       <path d=\"M 0 0 \r\nL -3.5 0 \r\n\" id=\"mfb9a10c64b\" style=\"stroke:#000000;stroke-width:0.8;\"/>\r\n      </defs>\r\n      <g>\r\n       <use style=\"stroke:#000000;stroke-width:0.8;\" x=\"182.315625\" xlink:href=\"#mfb9a10c64b\" y=\"30.681202\"/>\r\n      </g>\r\n     </g>\r\n     <g id=\"text_10\">\r\n      <!-- flavanoids -->\r\n      <g transform=\"translate(124.05 34.480421)scale(0.1 -0.1)\">\r\n       <defs>\r\n        <path d=\"M 37.109375 75.984375 \r\nL 37.109375 68.5 \r\nL 28.515625 68.5 \r\nQ 23.6875 68.5 21.796875 66.546875 \r\nQ 19.921875 64.59375 19.921875 59.515625 \r\nL 19.921875 54.6875 \r\nL 34.71875 54.6875 \r\nL 34.71875 47.703125 \r\nL 19.921875 47.703125 \r\nL 19.921875 0 \r\nL 10.890625 0 \r\nL 10.890625 47.703125 \r\nL 2.296875 47.703125 \r\nL 2.296875 54.6875 \r\nL 10.890625 54.6875 \r\nL 10.890625 58.5 \r\nQ 10.890625 67.625 15.140625 71.796875 \r\nQ 19.390625 75.984375 28.609375 75.984375 \r\nz\r\n\" id=\"DejaVuSans-102\"/>\r\n        <path d=\"M 9.421875 75.984375 \r\nL 18.40625 75.984375 \r\nL 18.40625 0 \r\nL 9.421875 0 \r\nz\r\n\" id=\"DejaVuSans-108\"/>\r\n        <path d=\"M 2.984375 54.6875 \r\nL 12.5 54.6875 \r\nL 29.59375 8.796875 \r\nL 46.6875 54.6875 \r\nL 56.203125 54.6875 \r\nL 35.6875 0 \r\nL 23.484375 0 \r\nz\r\n\" id=\"DejaVuSans-118\"/>\r\n        <path d=\"M 9.421875 54.6875 \r\nL 18.40625 54.6875 \r\nL 18.40625 0 \r\nL 9.421875 0 \r\nz\r\nM 9.421875 75.984375 \r\nL 18.40625 75.984375 \r\nL 18.40625 64.59375 \r\nL 9.421875 64.59375 \r\nz\r\n\" id=\"DejaVuSans-105\"/>\r\n        <path d=\"M 45.40625 46.390625 \r\nL 45.40625 75.984375 \r\nL 54.390625 75.984375 \r\nL 54.390625 0 \r\nL 45.40625 0 \r\nL 45.40625 8.203125 \r\nQ 42.578125 3.328125 38.25 0.953125 \r\nQ 33.9375 -1.421875 27.875 -1.421875 \r\nQ 17.96875 -1.421875 11.734375 6.484375 \r\nQ 5.515625 14.40625 5.515625 27.296875 \r\nQ 5.515625 40.1875 11.734375 48.09375 \r\nQ 17.96875 56 27.875 56 \r\nQ 33.9375 56 38.25 53.625 \r\nQ 42.578125 51.265625 45.40625 46.390625 \r\nz\r\nM 14.796875 27.296875 \r\nQ 14.796875 17.390625 18.875 11.75 \r\nQ 22.953125 6.109375 30.078125 6.109375 \r\nQ 37.203125 6.109375 41.296875 11.75 \r\nQ 45.40625 17.390625 45.40625 27.296875 \r\nQ 45.40625 37.203125 41.296875 42.84375 \r\nQ 37.203125 48.484375 30.078125 48.484375 \r\nQ 22.953125 48.484375 18.875 42.84375 \r\nQ 14.796875 37.203125 14.796875 27.296875 \r\nz\r\n\" id=\"DejaVuSans-100\"/>\r\n        <path d=\"M 44.28125 53.078125 \r\nL 44.28125 44.578125 \r\nQ 40.484375 46.53125 36.375 47.5 \r\nQ 32.28125 48.484375 27.875 48.484375 \r\nQ 21.1875 48.484375 17.84375 46.4375 \r\nQ 14.5 44.390625 14.5 40.28125 \r\nQ 14.5 37.15625 16.890625 35.375 \r\nQ 19.28125 33.59375 26.515625 31.984375 \r\nL 29.59375 31.296875 \r\nQ 39.15625 29.25 43.1875 25.515625 \r\nQ 47.21875 21.78125 47.21875 15.09375 \r\nQ 47.21875 7.46875 41.1875 3.015625 \r\nQ 35.15625 -1.421875 24.609375 -1.421875 \r\nQ 20.21875 -1.421875 15.453125 -0.5625 \r\nQ 10.6875 0.296875 5.421875 2 \r\nL 5.421875 11.28125 \r\nQ 10.40625 8.6875 15.234375 7.390625 \r\nQ 20.0625 6.109375 24.8125 6.109375 \r\nQ 31.15625 6.109375 34.5625 8.28125 \r\nQ 37.984375 10.453125 37.984375 14.40625 \r\nQ 37.984375 18.0625 35.515625 20.015625 \r\nQ 33.0625 21.96875 24.703125 23.78125 \r\nL 21.578125 24.515625 \r\nQ 13.234375 26.265625 9.515625 29.90625 \r\nQ 5.8125 33.546875 5.8125 39.890625 \r\nQ 5.8125 47.609375 11.28125 51.796875 \r\nQ 16.75 56 26.8125 56 \r\nQ 31.78125 56 36.171875 55.265625 \r\nQ 40.578125 54.546875 44.28125 53.078125 \r\nz\r\n\" id=\"DejaVuSans-115\"/>\r\n       </defs>\r\n       <use xlink:href=\"#DejaVuSans-102\"/>\r\n       <use x=\"35.205078\" xlink:href=\"#DejaVuSans-108\"/>\r\n       <use x=\"62.988281\" xlink:href=\"#DejaVuSans-97\"/>\r\n       <use x=\"124.267578\" xlink:href=\"#DejaVuSans-118\"/>\r\n       <use x=\"183.447266\" xlink:href=\"#DejaVuSans-97\"/>\r\n       <use x=\"244.726562\" xlink:href=\"#DejaVuSans-110\"/>\r\n       <use x=\"308.105469\" xlink:href=\"#DejaVuSans-111\"/>\r\n       <use x=\"369.287109\" xlink:href=\"#DejaVuSans-105\"/>\r\n       <use x=\"397.070312\" xlink:href=\"#DejaVuSans-100\"/>\r\n       <use x=\"460.546875\" xlink:href=\"#DejaVuSans-115\"/>\r\n      </g>\r\n     </g>\r\n    </g>\r\n    <g id=\"ytick_2\">\r\n     <g id=\"line2d_10\">\r\n      <g>\r\n       <use style=\"stroke:#000000;stroke-width:0.8;\" x=\"182.315625\" xlink:href=\"#mfb9a10c64b\" y=\"47.407356\"/>\r\n      </g>\r\n     </g>\r\n     <g id=\"text_11\">\r\n      <!-- proline -->\r\n      <g transform=\"translate(140.915625 51.206575)scale(0.1 -0.1)\">\r\n       <use xlink:href=\"#DejaVuSans-112\"/>\r\n       <use x=\"63.476562\" xlink:href=\"#DejaVuSans-114\"/>\r\n       <use x=\"102.339844\" xlink:href=\"#DejaVuSans-111\"/>\r\n       <use x=\"163.521484\" xlink:href=\"#DejaVuSans-108\"/>\r\n       <use x=\"191.304688\" xlink:href=\"#DejaVuSans-105\"/>\r\n       <use x=\"219.087891\" xlink:href=\"#DejaVuSans-110\"/>\r\n       <use x=\"282.466797\" xlink:href=\"#DejaVuSans-101\"/>\r\n      </g>\r\n     </g>\r\n    </g>\r\n    <g id=\"ytick_3\">\r\n     <g id=\"line2d_11\">\r\n      <g>\r\n       <use style=\"stroke:#000000;stroke-width:0.8;\" x=\"182.315625\" xlink:href=\"#mfb9a10c64b\" y=\"64.13351\"/>\r\n      </g>\r\n     </g>\r\n     <g id=\"text_12\">\r\n      <!-- color_intensity -->\r\n      <g transform=\"translate(102.3375 67.932728)scale(0.1 -0.1)\">\r\n       <defs>\r\n        <path d=\"M 50.984375 -16.609375 \r\nL 50.984375 -23.578125 \r\nL -0.984375 -23.578125 \r\nL -0.984375 -16.609375 \r\nz\r\n\" id=\"DejaVuSans-95\"/>\r\n        <path d=\"M 32.171875 -5.078125 \r\nQ 28.375 -14.84375 24.75 -17.8125 \r\nQ 21.140625 -20.796875 15.09375 -20.796875 \r\nL 7.90625 -20.796875 \r\nL 7.90625 -13.28125 \r\nL 13.1875 -13.28125 \r\nQ 16.890625 -13.28125 18.9375 -11.515625 \r\nQ 21 -9.765625 23.484375 -3.21875 \r\nL 25.09375 0.875 \r\nL 2.984375 54.6875 \r\nL 12.5 54.6875 \r\nL 29.59375 11.921875 \r\nL 46.6875 54.6875 \r\nL 56.203125 54.6875 \r\nz\r\n\" id=\"DejaVuSans-121\"/>\r\n       </defs>\r\n       <use xlink:href=\"#DejaVuSans-99\"/>\r\n       <use x=\"54.980469\" xlink:href=\"#DejaVuSans-111\"/>\r\n       <use x=\"116.162109\" xlink:href=\"#DejaVuSans-108\"/>\r\n       <use x=\"143.945312\" xlink:href=\"#DejaVuSans-111\"/>\r\n       <use x=\"205.126953\" xlink:href=\"#DejaVuSans-114\"/>\r\n       <use x=\"246.240234\" xlink:href=\"#DejaVuSans-95\"/>\r\n       <use x=\"296.240234\" xlink:href=\"#DejaVuSans-105\"/>\r\n       <use x=\"324.023438\" xlink:href=\"#DejaVuSans-110\"/>\r\n       <use x=\"387.402344\" xlink:href=\"#DejaVuSans-116\"/>\r\n       <use x=\"426.611328\" xlink:href=\"#DejaVuSans-101\"/>\r\n       <use x=\"488.134766\" xlink:href=\"#DejaVuSans-110\"/>\r\n       <use x=\"551.513672\" xlink:href=\"#DejaVuSans-115\"/>\r\n       <use x=\"603.613281\" xlink:href=\"#DejaVuSans-105\"/>\r\n       <use x=\"631.396484\" xlink:href=\"#DejaVuSans-116\"/>\r\n       <use x=\"670.605469\" xlink:href=\"#DejaVuSans-121\"/>\r\n      </g>\r\n     </g>\r\n    </g>\r\n    <g id=\"ytick_4\">\r\n     <g id=\"line2d_12\">\r\n      <g>\r\n       <use style=\"stroke:#000000;stroke-width:0.8;\" x=\"182.315625\" xlink:href=\"#mfb9a10c64b\" y=\"80.859663\"/>\r\n      </g>\r\n     </g>\r\n     <g id=\"text_13\">\r\n      <!-- alcohol -->\r\n      <g transform=\"translate(139.557813 84.658882)scale(0.1 -0.1)\">\r\n       <defs>\r\n        <path d=\"M 54.890625 33.015625 \r\nL 54.890625 0 \r\nL 45.90625 0 \r\nL 45.90625 32.71875 \r\nQ 45.90625 40.484375 42.875 44.328125 \r\nQ 39.84375 48.1875 33.796875 48.1875 \r\nQ 26.515625 48.1875 22.3125 43.546875 \r\nQ 18.109375 38.921875 18.109375 30.90625 \r\nL 18.109375 0 \r\nL 9.078125 0 \r\nL 9.078125 75.984375 \r\nL 18.109375 75.984375 \r\nL 18.109375 46.1875 \r\nQ 21.34375 51.125 25.703125 53.5625 \r\nQ 30.078125 56 35.796875 56 \r\nQ 45.21875 56 50.046875 50.171875 \r\nQ 54.890625 44.34375 54.890625 33.015625 \r\nz\r\n\" id=\"DejaVuSans-104\"/>\r\n       </defs>\r\n       <use xlink:href=\"#DejaVuSans-97\"/>\r\n       <use x=\"61.279297\" xlink:href=\"#DejaVuSans-108\"/>\r\n       <use x=\"89.0625\" xlink:href=\"#DejaVuSans-99\"/>\r\n       <use x=\"144.042969\" xlink:href=\"#DejaVuSans-111\"/>\r\n       <use x=\"205.224609\" xlink:href=\"#DejaVuSans-104\"/>\r\n       <use x=\"268.603516\" xlink:href=\"#DejaVuSans-111\"/>\r\n       <use x=\"329.785156\" xlink:href=\"#DejaVuSans-108\"/>\r\n      </g>\r\n     </g>\r\n    </g>\r\n    <g id=\"ytick_5\">\r\n     <g id=\"line2d_13\">\r\n      <g>\r\n       <use style=\"stroke:#000000;stroke-width:0.8;\" x=\"182.315625\" xlink:href=\"#mfb9a10c64b\" y=\"97.585817\"/>\r\n      </g>\r\n     </g>\r\n     <g id=\"text_14\">\r\n      <!-- od280/od315_of_diluted_wines -->\r\n      <g transform=\"translate(20.878125 101.385036)scale(0.1 -0.1)\">\r\n       <defs>\r\n        <path d=\"M 31.78125 34.625 \r\nQ 24.75 34.625 20.71875 30.859375 \r\nQ 16.703125 27.09375 16.703125 20.515625 \r\nQ 16.703125 13.921875 20.71875 10.15625 \r\nQ 24.75 6.390625 31.78125 6.390625 \r\nQ 38.8125 6.390625 42.859375 10.171875 \r\nQ 46.921875 13.96875 46.921875 20.515625 \r\nQ 46.921875 27.09375 42.890625 30.859375 \r\nQ 38.875 34.625 31.78125 34.625 \r\nz\r\nM 21.921875 38.8125 \r\nQ 15.578125 40.375 12.03125 44.71875 \r\nQ 8.5 49.078125 8.5 55.328125 \r\nQ 8.5 64.0625 14.71875 69.140625 \r\nQ 20.953125 74.21875 31.78125 74.21875 \r\nQ 42.671875 74.21875 48.875 69.140625 \r\nQ 55.078125 64.0625 55.078125 55.328125 \r\nQ 55.078125 49.078125 51.53125 44.71875 \r\nQ 48 40.375 41.703125 38.8125 \r\nQ 48.828125 37.15625 52.796875 32.3125 \r\nQ 56.78125 27.484375 56.78125 20.515625 \r\nQ 56.78125 9.90625 50.3125 4.234375 \r\nQ 43.84375 -1.421875 31.78125 -1.421875 \r\nQ 19.734375 -1.421875 13.25 4.234375 \r\nQ 6.78125 9.90625 6.78125 20.515625 \r\nQ 6.78125 27.484375 10.78125 32.3125 \r\nQ 14.796875 37.15625 21.921875 38.8125 \r\nz\r\nM 18.3125 54.390625 \r\nQ 18.3125 48.734375 21.84375 45.5625 \r\nQ 25.390625 42.390625 31.78125 42.390625 \r\nQ 38.140625 42.390625 41.71875 45.5625 \r\nQ 45.3125 48.734375 45.3125 54.390625 \r\nQ 45.3125 60.0625 41.71875 63.234375 \r\nQ 38.140625 66.40625 31.78125 66.40625 \r\nQ 25.390625 66.40625 21.84375 63.234375 \r\nQ 18.3125 60.0625 18.3125 54.390625 \r\nz\r\n\" id=\"DejaVuSans-56\"/>\r\n        <path d=\"M 25.390625 72.90625 \r\nL 33.6875 72.90625 \r\nL 8.296875 -9.28125 \r\nL 0 -9.28125 \r\nz\r\n\" id=\"DejaVuSans-47\"/>\r\n        <path d=\"M 40.578125 39.3125 \r\nQ 47.65625 37.796875 51.625 33 \r\nQ 55.609375 28.21875 55.609375 21.1875 \r\nQ 55.609375 10.40625 48.1875 4.484375 \r\nQ 40.765625 -1.421875 27.09375 -1.421875 \r\nQ 22.515625 -1.421875 17.65625 -0.515625 \r\nQ 12.796875 0.390625 7.625 2.203125 \r\nL 7.625 11.71875 \r\nQ 11.71875 9.328125 16.59375 8.109375 \r\nQ 21.484375 6.890625 26.8125 6.890625 \r\nQ 36.078125 6.890625 40.9375 10.546875 \r\nQ 45.796875 14.203125 45.796875 21.1875 \r\nQ 45.796875 27.640625 41.28125 31.265625 \r\nQ 36.765625 34.90625 28.71875 34.90625 \r\nL 20.21875 34.90625 \r\nL 20.21875 43.015625 \r\nL 29.109375 43.015625 \r\nQ 36.375 43.015625 40.234375 45.921875 \r\nQ 44.09375 48.828125 44.09375 54.296875 \r\nQ 44.09375 59.90625 40.109375 62.90625 \r\nQ 36.140625 65.921875 28.71875 65.921875 \r\nQ 24.65625 65.921875 20.015625 65.03125 \r\nQ 15.375 64.15625 9.8125 62.3125 \r\nL 9.8125 71.09375 \r\nQ 15.4375 72.65625 20.34375 73.4375 \r\nQ 25.25 74.21875 29.59375 74.21875 \r\nQ 40.828125 74.21875 47.359375 69.109375 \r\nQ 53.90625 64.015625 53.90625 55.328125 \r\nQ 53.90625 49.265625 50.4375 45.09375 \r\nQ 46.96875 40.921875 40.578125 39.3125 \r\nz\r\n\" id=\"DejaVuSans-51\"/>\r\n        <path d=\"M 4.203125 54.6875 \r\nL 13.1875 54.6875 \r\nL 24.421875 12.015625 \r\nL 35.59375 54.6875 \r\nL 46.1875 54.6875 \r\nL 57.421875 12.015625 \r\nL 68.609375 54.6875 \r\nL 77.59375 54.6875 \r\nL 63.28125 0 \r\nL 52.6875 0 \r\nL 40.921875 44.828125 \r\nL 29.109375 0 \r\nL 18.5 0 \r\nz\r\n\" id=\"DejaVuSans-119\"/>\r\n       </defs>\r\n       <use xlink:href=\"#DejaVuSans-111\"/>\r\n       <use x=\"61.181641\" xlink:href=\"#DejaVuSans-100\"/>\r\n       <use x=\"124.658203\" xlink:href=\"#DejaVuSans-50\"/>\r\n       <use x=\"188.28125\" xlink:href=\"#DejaVuSans-56\"/>\r\n       <use x=\"251.904297\" xlink:href=\"#DejaVuSans-48\"/>\r\n       <use x=\"315.527344\" xlink:href=\"#DejaVuSans-47\"/>\r\n       <use x=\"349.21875\" xlink:href=\"#DejaVuSans-111\"/>\r\n       <use x=\"410.400391\" xlink:href=\"#DejaVuSans-100\"/>\r\n       <use x=\"473.876953\" xlink:href=\"#DejaVuSans-51\"/>\r\n       <use x=\"537.5\" xlink:href=\"#DejaVuSans-49\"/>\r\n       <use x=\"601.123047\" xlink:href=\"#DejaVuSans-53\"/>\r\n       <use x=\"664.746094\" xlink:href=\"#DejaVuSans-95\"/>\r\n       <use x=\"714.746094\" xlink:href=\"#DejaVuSans-111\"/>\r\n       <use x=\"775.927734\" xlink:href=\"#DejaVuSans-102\"/>\r\n       <use x=\"811.132812\" xlink:href=\"#DejaVuSans-95\"/>\r\n       <use x=\"861.132812\" xlink:href=\"#DejaVuSans-100\"/>\r\n       <use x=\"924.609375\" xlink:href=\"#DejaVuSans-105\"/>\r\n       <use x=\"952.392578\" xlink:href=\"#DejaVuSans-108\"/>\r\n       <use x=\"980.175781\" xlink:href=\"#DejaVuSans-117\"/>\r\n       <use x=\"1043.554688\" xlink:href=\"#DejaVuSans-116\"/>\r\n       <use x=\"1082.763672\" xlink:href=\"#DejaVuSans-101\"/>\r\n       <use x=\"1144.287109\" xlink:href=\"#DejaVuSans-100\"/>\r\n       <use x=\"1207.763672\" xlink:href=\"#DejaVuSans-95\"/>\r\n       <use x=\"1257.763672\" xlink:href=\"#DejaVuSans-119\"/>\r\n       <use x=\"1339.550781\" xlink:href=\"#DejaVuSans-105\"/>\r\n       <use x=\"1367.333984\" xlink:href=\"#DejaVuSans-110\"/>\r\n       <use x=\"1430.712891\" xlink:href=\"#DejaVuSans-101\"/>\r\n       <use x=\"1492.236328\" xlink:href=\"#DejaVuSans-115\"/>\r\n      </g>\r\n     </g>\r\n    </g>\r\n    <g id=\"ytick_6\">\r\n     <g id=\"line2d_14\">\r\n      <g>\r\n       <use style=\"stroke:#000000;stroke-width:0.8;\" x=\"182.315625\" xlink:href=\"#mfb9a10c64b\" y=\"114.311971\"/>\r\n      </g>\r\n     </g>\r\n     <g id=\"text_15\">\r\n      <!-- hue -->\r\n      <g transform=\"translate(156.4875 118.11119)scale(0.1 -0.1)\">\r\n       <use xlink:href=\"#DejaVuSans-104\"/>\r\n       <use x=\"63.378906\" xlink:href=\"#DejaVuSans-117\"/>\r\n       <use x=\"126.757812\" xlink:href=\"#DejaVuSans-101\"/>\r\n      </g>\r\n     </g>\r\n    </g>\r\n    <g id=\"ytick_7\">\r\n     <g id=\"line2d_15\">\r\n      <g>\r\n       <use style=\"stroke:#000000;stroke-width:0.8;\" x=\"182.315625\" xlink:href=\"#mfb9a10c64b\" y=\"131.038125\"/>\r\n      </g>\r\n     </g>\r\n     <g id=\"text_16\">\r\n      <!-- total_phenols -->\r\n      <g transform=\"translate(108.167188 134.837344)scale(0.1 -0.1)\">\r\n       <use xlink:href=\"#DejaVuSans-116\"/>\r\n       <use x=\"39.208984\" xlink:href=\"#DejaVuSans-111\"/>\r\n       <use x=\"100.390625\" xlink:href=\"#DejaVuSans-116\"/>\r\n       <use x=\"139.599609\" xlink:href=\"#DejaVuSans-97\"/>\r\n       <use x=\"200.878906\" xlink:href=\"#DejaVuSans-108\"/>\r\n       <use x=\"228.662109\" xlink:href=\"#DejaVuSans-95\"/>\r\n       <use x=\"278.662109\" xlink:href=\"#DejaVuSans-112\"/>\r\n       <use x=\"342.138672\" xlink:href=\"#DejaVuSans-104\"/>\r\n       <use x=\"405.517578\" xlink:href=\"#DejaVuSans-101\"/>\r\n       <use x=\"467.041016\" xlink:href=\"#DejaVuSans-110\"/>\r\n       <use x=\"530.419922\" xlink:href=\"#DejaVuSans-111\"/>\r\n       <use x=\"591.601562\" xlink:href=\"#DejaVuSans-108\"/>\r\n       <use x=\"619.384766\" xlink:href=\"#DejaVuSans-115\"/>\r\n      </g>\r\n     </g>\r\n    </g>\r\n    <g id=\"ytick_8\">\r\n     <g id=\"line2d_16\">\r\n      <g>\r\n       <use style=\"stroke:#000000;stroke-width:0.8;\" x=\"182.315625\" xlink:href=\"#mfb9a10c64b\" y=\"147.764279\"/>\r\n      </g>\r\n     </g>\r\n     <g id=\"text_17\">\r\n      <!-- magnesium -->\r\n      <g transform=\"translate(116.542188 151.563498)scale(0.1 -0.1)\">\r\n       <defs>\r\n        <path d=\"M 45.40625 27.984375 \r\nQ 45.40625 37.75 41.375 43.109375 \r\nQ 37.359375 48.484375 30.078125 48.484375 \r\nQ 22.859375 48.484375 18.828125 43.109375 \r\nQ 14.796875 37.75 14.796875 27.984375 \r\nQ 14.796875 18.265625 18.828125 12.890625 \r\nQ 22.859375 7.515625 30.078125 7.515625 \r\nQ 37.359375 7.515625 41.375 12.890625 \r\nQ 45.40625 18.265625 45.40625 27.984375 \r\nz\r\nM 54.390625 6.78125 \r\nQ 54.390625 -7.171875 48.1875 -13.984375 \r\nQ 42 -20.796875 29.203125 -20.796875 \r\nQ 24.46875 -20.796875 20.265625 -20.09375 \r\nQ 16.0625 -19.390625 12.109375 -17.921875 \r\nL 12.109375 -9.1875 \r\nQ 16.0625 -11.328125 19.921875 -12.34375 \r\nQ 23.78125 -13.375 27.78125 -13.375 \r\nQ 36.625 -13.375 41.015625 -8.765625 \r\nQ 45.40625 -4.15625 45.40625 5.171875 \r\nL 45.40625 9.625 \r\nQ 42.625 4.78125 38.28125 2.390625 \r\nQ 33.9375 0 27.875 0 \r\nQ 17.828125 0 11.671875 7.65625 \r\nQ 5.515625 15.328125 5.515625 27.984375 \r\nQ 5.515625 40.671875 11.671875 48.328125 \r\nQ 17.828125 56 27.875 56 \r\nQ 33.9375 56 38.28125 53.609375 \r\nQ 42.625 51.21875 45.40625 46.390625 \r\nL 45.40625 54.6875 \r\nL 54.390625 54.6875 \r\nz\r\n\" id=\"DejaVuSans-103\"/>\r\n       </defs>\r\n       <use xlink:href=\"#DejaVuSans-109\"/>\r\n       <use x=\"97.412109\" xlink:href=\"#DejaVuSans-97\"/>\r\n       <use x=\"158.691406\" xlink:href=\"#DejaVuSans-103\"/>\r\n       <use x=\"222.167969\" xlink:href=\"#DejaVuSans-110\"/>\r\n       <use x=\"285.546875\" xlink:href=\"#DejaVuSans-101\"/>\r\n       <use x=\"347.070312\" xlink:href=\"#DejaVuSans-115\"/>\r\n       <use x=\"399.169922\" xlink:href=\"#DejaVuSans-105\"/>\r\n       <use x=\"426.953125\" xlink:href=\"#DejaVuSans-117\"/>\r\n       <use x=\"490.332031\" xlink:href=\"#DejaVuSans-109\"/>\r\n      </g>\r\n     </g>\r\n    </g>\r\n    <g id=\"ytick_9\">\r\n     <g id=\"line2d_17\">\r\n      <g>\r\n       <use style=\"stroke:#000000;stroke-width:0.8;\" x=\"182.315625\" xlink:href=\"#mfb9a10c64b\" y=\"164.490433\"/>\r\n      </g>\r\n     </g>\r\n     <g id=\"text_18\">\r\n      <!-- alcalinity_of_ash -->\r\n      <g transform=\"translate(92.957813 168.289651)scale(0.1 -0.1)\">\r\n       <use xlink:href=\"#DejaVuSans-97\"/>\r\n       <use x=\"61.279297\" xlink:href=\"#DejaVuSans-108\"/>\r\n       <use x=\"89.0625\" xlink:href=\"#DejaVuSans-99\"/>\r\n       <use x=\"144.042969\" xlink:href=\"#DejaVuSans-97\"/>\r\n       <use x=\"205.322266\" xlink:href=\"#DejaVuSans-108\"/>\r\n       <use x=\"233.105469\" xlink:href=\"#DejaVuSans-105\"/>\r\n       <use x=\"260.888672\" xlink:href=\"#DejaVuSans-110\"/>\r\n       <use x=\"324.267578\" xlink:href=\"#DejaVuSans-105\"/>\r\n       <use x=\"352.050781\" xlink:href=\"#DejaVuSans-116\"/>\r\n       <use x=\"391.259766\" xlink:href=\"#DejaVuSans-121\"/>\r\n       <use x=\"450.439453\" xlink:href=\"#DejaVuSans-95\"/>\r\n       <use x=\"500.439453\" xlink:href=\"#DejaVuSans-111\"/>\r\n       <use x=\"561.621094\" xlink:href=\"#DejaVuSans-102\"/>\r\n       <use x=\"596.826172\" xlink:href=\"#DejaVuSans-95\"/>\r\n       <use x=\"646.826172\" xlink:href=\"#DejaVuSans-97\"/>\r\n       <use x=\"708.105469\" xlink:href=\"#DejaVuSans-115\"/>\r\n       <use x=\"760.205078\" xlink:href=\"#DejaVuSans-104\"/>\r\n      </g>\r\n     </g>\r\n    </g>\r\n    <g id=\"ytick_10\">\r\n     <g id=\"line2d_18\">\r\n      <g>\r\n       <use style=\"stroke:#000000;stroke-width:0.8;\" x=\"182.315625\" xlink:href=\"#mfb9a10c64b\" y=\"181.216587\"/>\r\n      </g>\r\n     </g>\r\n     <g id=\"text_19\">\r\n      <!-- malic_acid -->\r\n      <g transform=\"translate(122.639063 185.015805)scale(0.1 -0.1)\">\r\n       <use xlink:href=\"#DejaVuSans-109\"/>\r\n       <use x=\"97.412109\" xlink:href=\"#DejaVuSans-97\"/>\r\n       <use x=\"158.691406\" xlink:href=\"#DejaVuSans-108\"/>\r\n       <use x=\"186.474609\" xlink:href=\"#DejaVuSans-105\"/>\r\n       <use x=\"214.257812\" xlink:href=\"#DejaVuSans-99\"/>\r\n       <use x=\"269.238281\" xlink:href=\"#DejaVuSans-95\"/>\r\n       <use x=\"319.238281\" xlink:href=\"#DejaVuSans-97\"/>\r\n       <use x=\"380.517578\" xlink:href=\"#DejaVuSans-99\"/>\r\n       <use x=\"435.498047\" xlink:href=\"#DejaVuSans-105\"/>\r\n       <use x=\"463.28125\" xlink:href=\"#DejaVuSans-100\"/>\r\n      </g>\r\n     </g>\r\n    </g>\r\n    <g id=\"ytick_11\">\r\n     <g id=\"line2d_19\">\r\n      <g>\r\n       <use style=\"stroke:#000000;stroke-width:0.8;\" x=\"182.315625\" xlink:href=\"#mfb9a10c64b\" y=\"197.94274\"/>\r\n      </g>\r\n     </g>\r\n     <g id=\"text_20\">\r\n      <!-- proanthocyanins -->\r\n      <g transform=\"translate(91.9125 201.741959)scale(0.1 -0.1)\">\r\n       <use xlink:href=\"#DejaVuSans-112\"/>\r\n       <use x=\"63.476562\" xlink:href=\"#DejaVuSans-114\"/>\r\n       <use x=\"102.339844\" xlink:href=\"#DejaVuSans-111\"/>\r\n       <use x=\"163.521484\" xlink:href=\"#DejaVuSans-97\"/>\r\n       <use x=\"224.800781\" xlink:href=\"#DejaVuSans-110\"/>\r\n       <use x=\"288.179688\" xlink:href=\"#DejaVuSans-116\"/>\r\n       <use x=\"327.388672\" xlink:href=\"#DejaVuSans-104\"/>\r\n       <use x=\"390.767578\" xlink:href=\"#DejaVuSans-111\"/>\r\n       <use x=\"451.949219\" xlink:href=\"#DejaVuSans-99\"/>\r\n       <use x=\"506.929688\" xlink:href=\"#DejaVuSans-121\"/>\r\n       <use x=\"566.109375\" xlink:href=\"#DejaVuSans-97\"/>\r\n       <use x=\"627.388672\" xlink:href=\"#DejaVuSans-110\"/>\r\n       <use x=\"690.767578\" xlink:href=\"#DejaVuSans-105\"/>\r\n       <use x=\"718.550781\" xlink:href=\"#DejaVuSans-110\"/>\r\n       <use x=\"781.929688\" xlink:href=\"#DejaVuSans-115\"/>\r\n      </g>\r\n     </g>\r\n    </g>\r\n    <g id=\"ytick_12\">\r\n     <g id=\"line2d_20\">\r\n      <g>\r\n       <use style=\"stroke:#000000;stroke-width:0.8;\" x=\"182.315625\" xlink:href=\"#mfb9a10c64b\" y=\"214.668894\"/>\r\n      </g>\r\n     </g>\r\n     <g id=\"text_21\">\r\n      <!-- ash -->\r\n      <g transform=\"translate(157.640625 218.468113)scale(0.1 -0.1)\">\r\n       <use xlink:href=\"#DejaVuSans-97\"/>\r\n       <use x=\"61.279297\" xlink:href=\"#DejaVuSans-115\"/>\r\n       <use x=\"113.378906\" xlink:href=\"#DejaVuSans-104\"/>\r\n      </g>\r\n     </g>\r\n    </g>\r\n    <g id=\"ytick_13\">\r\n     <g id=\"line2d_21\">\r\n      <g>\r\n       <use style=\"stroke:#000000;stroke-width:0.8;\" x=\"182.315625\" xlink:href=\"#mfb9a10c64b\" y=\"231.395048\"/>\r\n      </g>\r\n     </g>\r\n     <g id=\"text_22\">\r\n      <!-- nonflavanoid_phenols -->\r\n      <g transform=\"translate(66.182813 235.194267)scale(0.1 -0.1)\">\r\n       <use xlink:href=\"#DejaVuSans-110\"/>\r\n       <use x=\"63.378906\" xlink:href=\"#DejaVuSans-111\"/>\r\n       <use x=\"124.560547\" xlink:href=\"#DejaVuSans-110\"/>\r\n       <use x=\"187.939453\" xlink:href=\"#DejaVuSans-102\"/>\r\n       <use x=\"223.144531\" xlink:href=\"#DejaVuSans-108\"/>\r\n       <use x=\"250.927734\" xlink:href=\"#DejaVuSans-97\"/>\r\n       <use x=\"312.207031\" xlink:href=\"#DejaVuSans-118\"/>\r\n       <use x=\"371.386719\" xlink:href=\"#DejaVuSans-97\"/>\r\n       <use x=\"432.666016\" xlink:href=\"#DejaVuSans-110\"/>\r\n       <use x=\"496.044922\" xlink:href=\"#DejaVuSans-111\"/>\r\n       <use x=\"557.226562\" xlink:href=\"#DejaVuSans-105\"/>\r\n       <use x=\"585.009766\" xlink:href=\"#DejaVuSans-100\"/>\r\n       <use x=\"648.486328\" xlink:href=\"#DejaVuSans-95\"/>\r\n       <use x=\"698.486328\" xlink:href=\"#DejaVuSans-112\"/>\r\n       <use x=\"761.962891\" xlink:href=\"#DejaVuSans-104\"/>\r\n       <use x=\"825.341797\" xlink:href=\"#DejaVuSans-101\"/>\r\n       <use x=\"886.865234\" xlink:href=\"#DejaVuSans-110\"/>\r\n       <use x=\"950.244141\" xlink:href=\"#DejaVuSans-111\"/>\r\n       <use x=\"1011.425781\" xlink:href=\"#DejaVuSans-108\"/>\r\n       <use x=\"1039.208984\" xlink:href=\"#DejaVuSans-115\"/>\r\n      </g>\r\n     </g>\r\n    </g>\r\n    <g id=\"text_23\">\r\n     <!-- Features -->\r\n     <g transform=\"translate(14.798438 152.532656)rotate(-90)scale(0.1 -0.1)\">\r\n      <use xlink:href=\"#DejaVuSans-70\"/>\r\n      <use x=\"52.019531\" xlink:href=\"#DejaVuSans-101\"/>\r\n      <use x=\"113.542969\" xlink:href=\"#DejaVuSans-97\"/>\r\n      <use x=\"174.822266\" xlink:href=\"#DejaVuSans-116\"/>\r\n      <use x=\"214.03125\" xlink:href=\"#DejaVuSans-117\"/>\r\n      <use x=\"277.410156\" xlink:href=\"#DejaVuSans-114\"/>\r\n      <use x=\"316.273438\" xlink:href=\"#DejaVuSans-101\"/>\r\n      <use x=\"377.796875\" xlink:href=\"#DejaVuSans-115\"/>\r\n     </g>\r\n    </g>\r\n   </g>\r\n   <g id=\"line2d_22\">\r\n    <path clip-path=\"url(#p7e709efd7b)\" d=\"M 0 0 \r\n\" style=\"fill:none;stroke:#424242;stroke-linecap:square;stroke-width:2.7;\"/>\r\n   </g>\r\n   <g id=\"line2d_23\">\r\n    <path clip-path=\"url(#p7e709efd7b)\" d=\"M 0 0 \r\n\" style=\"fill:none;stroke:#424242;stroke-linecap:square;stroke-width:2.7;\"/>\r\n   </g>\r\n   <g id=\"line2d_24\">\r\n    <path clip-path=\"url(#p7e709efd7b)\" d=\"M 0 0 \r\n\" style=\"fill:none;stroke:#424242;stroke-linecap:square;stroke-width:2.7;\"/>\r\n   </g>\r\n   <g id=\"line2d_25\">\r\n    <path clip-path=\"url(#p7e709efd7b)\" d=\"M 0 0 \r\n\" style=\"fill:none;stroke:#424242;stroke-linecap:square;stroke-width:2.7;\"/>\r\n   </g>\r\n   <g id=\"line2d_26\">\r\n    <path clip-path=\"url(#p7e709efd7b)\" d=\"M 0 0 \r\n\" style=\"fill:none;stroke:#424242;stroke-linecap:square;stroke-width:2.7;\"/>\r\n   </g>\r\n   <g id=\"line2d_27\">\r\n    <path clip-path=\"url(#p7e709efd7b)\" d=\"M 0 0 \r\n\" style=\"fill:none;stroke:#424242;stroke-linecap:square;stroke-width:2.7;\"/>\r\n   </g>\r\n   <g id=\"line2d_28\">\r\n    <path clip-path=\"url(#p7e709efd7b)\" d=\"M 0 0 \r\n\" style=\"fill:none;stroke:#424242;stroke-linecap:square;stroke-width:2.7;\"/>\r\n   </g>\r\n   <g id=\"line2d_29\">\r\n    <path clip-path=\"url(#p7e709efd7b)\" d=\"M 0 0 \r\n\" style=\"fill:none;stroke:#424242;stroke-linecap:square;stroke-width:2.7;\"/>\r\n   </g>\r\n   <g id=\"line2d_30\">\r\n    <path clip-path=\"url(#p7e709efd7b)\" d=\"M 0 0 \r\n\" style=\"fill:none;stroke:#424242;stroke-linecap:square;stroke-width:2.7;\"/>\r\n   </g>\r\n   <g id=\"line2d_31\">\r\n    <path clip-path=\"url(#p7e709efd7b)\" d=\"M 0 0 \r\n\" style=\"fill:none;stroke:#424242;stroke-linecap:square;stroke-width:2.7;\"/>\r\n   </g>\r\n   <g id=\"line2d_32\">\r\n    <path clip-path=\"url(#p7e709efd7b)\" d=\"M 0 0 \r\n\" style=\"fill:none;stroke:#424242;stroke-linecap:square;stroke-width:2.7;\"/>\r\n   </g>\r\n   <g id=\"line2d_33\">\r\n    <path clip-path=\"url(#p7e709efd7b)\" d=\"M 0 0 \r\n\" style=\"fill:none;stroke:#424242;stroke-linecap:square;stroke-width:2.7;\"/>\r\n   </g>\r\n   <g id=\"line2d_34\">\r\n    <path clip-path=\"url(#p7e709efd7b)\" d=\"M 0 0 \r\n\" style=\"fill:none;stroke:#424242;stroke-linecap:square;stroke-width:2.7;\"/>\r\n   </g>\r\n   <g id=\"patch_16\">\r\n    <path d=\"M 182.315625 239.758125 \r\nL 182.315625 22.318125 \r\n\" style=\"fill:none;stroke:#000000;stroke-linecap:square;stroke-linejoin:miter;stroke-width:0.8;\"/>\r\n   </g>\r\n   <g id=\"patch_17\">\r\n    <path d=\"M 517.115625 239.758125 \r\nL 517.115625 22.318125 \r\n\" style=\"fill:none;stroke:#000000;stroke-linecap:square;stroke-linejoin:miter;stroke-width:0.8;\"/>\r\n   </g>\r\n   <g id=\"patch_18\">\r\n    <path d=\"M 182.315625 239.758125 \r\nL 517.115625 239.758125 \r\n\" style=\"fill:none;stroke:#000000;stroke-linecap:square;stroke-linejoin:miter;stroke-width:0.8;\"/>\r\n   </g>\r\n   <g id=\"patch_19\">\r\n    <path d=\"M 182.315625 22.318125 \r\nL 517.115625 22.318125 \r\n\" style=\"fill:none;stroke:#000000;stroke-linecap:square;stroke-linejoin:miter;stroke-width:0.8;\"/>\r\n   </g>\r\n   <g id=\"text_24\">\r\n    <!-- Visualizing Important Features -->\r\n    <g transform=\"translate(258.360937 16.318125)scale(0.12 -0.12)\">\r\n     <defs>\r\n      <path d=\"M 28.609375 0 \r\nL 0.78125 72.90625 \r\nL 11.078125 72.90625 \r\nL 34.1875 11.53125 \r\nL 57.328125 72.90625 \r\nL 67.578125 72.90625 \r\nL 39.796875 0 \r\nz\r\n\" id=\"DejaVuSans-86\"/>\r\n      <path d=\"M 5.515625 54.6875 \r\nL 48.1875 54.6875 \r\nL 48.1875 46.484375 \r\nL 14.40625 7.171875 \r\nL 48.1875 7.171875 \r\nL 48.1875 0 \r\nL 4.296875 0 \r\nL 4.296875 8.203125 \r\nL 38.09375 47.515625 \r\nL 5.515625 47.515625 \r\nz\r\n\" id=\"DejaVuSans-122\"/>\r\n     </defs>\r\n     <use xlink:href=\"#DejaVuSans-86\"/>\r\n     <use x=\"66.158203\" xlink:href=\"#DejaVuSans-105\"/>\r\n     <use x=\"93.941406\" xlink:href=\"#DejaVuSans-115\"/>\r\n     <use x=\"146.041016\" xlink:href=\"#DejaVuSans-117\"/>\r\n     <use x=\"209.419922\" xlink:href=\"#DejaVuSans-97\"/>\r\n     <use x=\"270.699219\" xlink:href=\"#DejaVuSans-108\"/>\r\n     <use x=\"298.482422\" xlink:href=\"#DejaVuSans-105\"/>\r\n     <use x=\"326.265625\" xlink:href=\"#DejaVuSans-122\"/>\r\n     <use x=\"378.755859\" xlink:href=\"#DejaVuSans-105\"/>\r\n     <use x=\"406.539062\" xlink:href=\"#DejaVuSans-110\"/>\r\n     <use x=\"469.917969\" xlink:href=\"#DejaVuSans-103\"/>\r\n     <use x=\"533.394531\" xlink:href=\"#DejaVuSans-32\"/>\r\n     <use x=\"565.181641\" xlink:href=\"#DejaVuSans-73\"/>\r\n     <use x=\"594.673828\" xlink:href=\"#DejaVuSans-109\"/>\r\n     <use x=\"692.085938\" xlink:href=\"#DejaVuSans-112\"/>\r\n     <use x=\"755.5625\" xlink:href=\"#DejaVuSans-111\"/>\r\n     <use x=\"816.744141\" xlink:href=\"#DejaVuSans-114\"/>\r\n     <use x=\"857.857422\" xlink:href=\"#DejaVuSans-116\"/>\r\n     <use x=\"897.066406\" xlink:href=\"#DejaVuSans-97\"/>\r\n     <use x=\"958.345703\" xlink:href=\"#DejaVuSans-110\"/>\r\n     <use x=\"1021.724609\" xlink:href=\"#DejaVuSans-116\"/>\r\n     <use x=\"1060.933594\" xlink:href=\"#DejaVuSans-32\"/>\r\n     <use x=\"1092.720703\" xlink:href=\"#DejaVuSans-70\"/>\r\n     <use x=\"1144.740234\" xlink:href=\"#DejaVuSans-101\"/>\r\n     <use x=\"1206.263672\" xlink:href=\"#DejaVuSans-97\"/>\r\n     <use x=\"1267.542969\" xlink:href=\"#DejaVuSans-116\"/>\r\n     <use x=\"1306.751953\" xlink:href=\"#DejaVuSans-117\"/>\r\n     <use x=\"1370.130859\" xlink:href=\"#DejaVuSans-114\"/>\r\n     <use x=\"1408.994141\" xlink:href=\"#DejaVuSans-101\"/>\r\n     <use x=\"1470.517578\" xlink:href=\"#DejaVuSans-115\"/>\r\n    </g>\r\n   </g>\r\n   <g id=\"legend_1\">\r\n    <g id=\"patch_20\">\r\n     <path d=\"M 506.115625 35.318125 \r\nL 510.115625 35.318125 \r\nQ 512.115625 35.318125 512.115625 33.318125 \r\nL 512.115625 29.318125 \r\nQ 512.115625 27.318125 510.115625 27.318125 \r\nL 506.115625 27.318125 \r\nQ 504.115625 27.318125 504.115625 29.318125 \r\nL 504.115625 33.318125 \r\nQ 504.115625 35.318125 506.115625 35.318125 \r\nz\r\n\" style=\"fill:#ffffff;opacity:0.8;stroke:#cccccc;stroke-linejoin:miter;\"/>\r\n    </g>\r\n   </g>\r\n  </g>\r\n </g>\r\n <defs>\r\n  <clipPath id=\"p7e709efd7b\">\r\n   <rect height=\"217.44\" width=\"334.8\" x=\"182.315625\" y=\"22.318125\"/>\r\n  </clipPath>\r\n </defs>\r\n</svg>\r\n",
      "image/png": "[encoded data removed]"
     },
     "metadata": {
      "needs_background": "light"
     }
    }
   ],
   "source": [
    "# Visualize the feature importance\n",
    "# Creating a bar plot\n",
    "sns.barplot(x=feature_imp, y=feature_imp.index)\n",
    "# Add labels to your graph\n",
    "plt.xlabel('Feature Importance Score')\n",
    "plt.ylabel('Features')\n",
    "plt.title(\"Visualizing Important Features\")\n",
    "plt.legend()\n",
    "plt.show()"
   ]
  },
  {
   "cell_type": "code",
   "execution_count": null,
   "metadata": {},
   "outputs": [],
   "source": []
  }
 ]
}